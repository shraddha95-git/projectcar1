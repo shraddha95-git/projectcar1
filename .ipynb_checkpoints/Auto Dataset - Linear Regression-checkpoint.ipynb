{
 "cells": [
  {
   "cell_type": "markdown",
   "id": "181c9fb2",
   "metadata": {},
   "source": [
    "## Linear Regression- Auto Dataset"
   ]
  },
  {
   "cell_type": "markdown",
   "id": "7647cc2b",
   "metadata": {},
   "source": [
    "### Import Libraries"
   ]
  },
  {
   "cell_type": "code",
   "execution_count": 1,
   "id": "4c783f4a",
   "metadata": {},
   "outputs": [],
   "source": [
    "\n",
    "# common libraries\n",
    "import numpy as np\n",
    "import pandas as pd\n",
    "\n",
    "# Visualization\n",
    "import seaborn as sns\n",
    "import matplotlib.pyplot as plt\n",
    "\n",
    "# Feature selection\n",
    "from statsmodels.stats.outliers_influence import variance_inflation_factor\n",
    "\n",
    "# model building\n",
    "from sklearn.model_selection import train_test_split, GridSearchCV, RandomizedSearchCV\n",
    "from sklearn.linear_model import LinearRegression, Ridge, Lasso\n",
    "\n",
    "# Evaluaion Matrix\n",
    "from sklearn.metrics import mean_absolute_error, mean_squared_error, r2_score\n",
    "\n",
    "# To avoid warning\n",
    "\n",
    "import warnings\n",
    "warnings.filterwarnings(\"ignore\")\n",
    "\n",
    "# To handle outliers\n",
    "from scipy.stats import boxcox\n",
    "\n",
    "# To check Normality of Residual\n",
    "from scipy.stats import shapiro, kstest, normaltest\n",
    "import statsmodels.api as sm\n",
    "\n",
    "# To create pickle file\n",
    "import pickle\n",
    "\n",
    "# To create json file\n",
    "import json"
   ]
  },
  {
   "cell_type": "markdown",
   "id": "26f25243",
   "metadata": {},
   "source": [
    "### Step 1: Problem Statement"
   ]
  },
  {
   "cell_type": "raw",
   "id": "42cc91b6",
   "metadata": {},
   "source": [
    "To predict price of the cars by using supervised machine learning considering as a regression problem."
   ]
  },
  {
   "cell_type": "markdown",
   "id": "d427270a",
   "metadata": {},
   "source": [
    "### Step 2: Data Gathering"
   ]
  },
  {
   "cell_type": "code",
   "execution_count": 145,
   "id": "4c91fd34",
   "metadata": {},
   "outputs": [
    {
     "data": {
      "text/html": [
       "<div>\n",
       "<style scoped>\n",
       "    .dataframe tbody tr th:only-of-type {\n",
       "        vertical-align: middle;\n",
       "    }\n",
       "\n",
       "    .dataframe tbody tr th {\n",
       "        vertical-align: top;\n",
       "    }\n",
       "\n",
       "    .dataframe thead th {\n",
       "        text-align: right;\n",
       "    }\n",
       "</style>\n",
       "<table border=\"1\" class=\"dataframe\">\n",
       "  <thead>\n",
       "    <tr style=\"text-align: right;\">\n",
       "      <th></th>\n",
       "      <th>symboling</th>\n",
       "      <th>normalized-losses</th>\n",
       "      <th>make</th>\n",
       "      <th>fuel-type</th>\n",
       "      <th>aspiration</th>\n",
       "      <th>num-of-doors</th>\n",
       "      <th>body-style</th>\n",
       "      <th>drive-wheels</th>\n",
       "      <th>engine-location</th>\n",
       "      <th>wheel-base</th>\n",
       "      <th>...</th>\n",
       "      <th>engine-size</th>\n",
       "      <th>fuel-system</th>\n",
       "      <th>bore</th>\n",
       "      <th>stroke</th>\n",
       "      <th>compression-ratio</th>\n",
       "      <th>horsepower</th>\n",
       "      <th>peak-rpm</th>\n",
       "      <th>city-mpg</th>\n",
       "      <th>highway-mpg</th>\n",
       "      <th>price</th>\n",
       "    </tr>\n",
       "  </thead>\n",
       "  <tbody>\n",
       "    <tr>\n",
       "      <th>0</th>\n",
       "      <td>3</td>\n",
       "      <td>?</td>\n",
       "      <td>alfa-romero</td>\n",
       "      <td>gas</td>\n",
       "      <td>std</td>\n",
       "      <td>two</td>\n",
       "      <td>convertible</td>\n",
       "      <td>rwd</td>\n",
       "      <td>front</td>\n",
       "      <td>88.6</td>\n",
       "      <td>...</td>\n",
       "      <td>130</td>\n",
       "      <td>mpfi</td>\n",
       "      <td>3.47</td>\n",
       "      <td>2.68</td>\n",
       "      <td>9.0</td>\n",
       "      <td>111</td>\n",
       "      <td>5000</td>\n",
       "      <td>21</td>\n",
       "      <td>27</td>\n",
       "      <td>13495</td>\n",
       "    </tr>\n",
       "    <tr>\n",
       "      <th>1</th>\n",
       "      <td>3</td>\n",
       "      <td>?</td>\n",
       "      <td>alfa-romero</td>\n",
       "      <td>gas</td>\n",
       "      <td>std</td>\n",
       "      <td>two</td>\n",
       "      <td>convertible</td>\n",
       "      <td>rwd</td>\n",
       "      <td>front</td>\n",
       "      <td>88.6</td>\n",
       "      <td>...</td>\n",
       "      <td>130</td>\n",
       "      <td>mpfi</td>\n",
       "      <td>3.47</td>\n",
       "      <td>2.68</td>\n",
       "      <td>9.0</td>\n",
       "      <td>111</td>\n",
       "      <td>5000</td>\n",
       "      <td>21</td>\n",
       "      <td>27</td>\n",
       "      <td>16500</td>\n",
       "    </tr>\n",
       "    <tr>\n",
       "      <th>2</th>\n",
       "      <td>1</td>\n",
       "      <td>?</td>\n",
       "      <td>alfa-romero</td>\n",
       "      <td>gas</td>\n",
       "      <td>std</td>\n",
       "      <td>two</td>\n",
       "      <td>hatchback</td>\n",
       "      <td>rwd</td>\n",
       "      <td>front</td>\n",
       "      <td>94.5</td>\n",
       "      <td>...</td>\n",
       "      <td>152</td>\n",
       "      <td>mpfi</td>\n",
       "      <td>2.68</td>\n",
       "      <td>3.47</td>\n",
       "      <td>9.0</td>\n",
       "      <td>154</td>\n",
       "      <td>5000</td>\n",
       "      <td>19</td>\n",
       "      <td>26</td>\n",
       "      <td>16500</td>\n",
       "    </tr>\n",
       "    <tr>\n",
       "      <th>3</th>\n",
       "      <td>2</td>\n",
       "      <td>164</td>\n",
       "      <td>audi</td>\n",
       "      <td>gas</td>\n",
       "      <td>std</td>\n",
       "      <td>four</td>\n",
       "      <td>sedan</td>\n",
       "      <td>fwd</td>\n",
       "      <td>front</td>\n",
       "      <td>99.8</td>\n",
       "      <td>...</td>\n",
       "      <td>109</td>\n",
       "      <td>mpfi</td>\n",
       "      <td>3.19</td>\n",
       "      <td>3.4</td>\n",
       "      <td>10.0</td>\n",
       "      <td>102</td>\n",
       "      <td>5500</td>\n",
       "      <td>24</td>\n",
       "      <td>30</td>\n",
       "      <td>13950</td>\n",
       "    </tr>\n",
       "    <tr>\n",
       "      <th>4</th>\n",
       "      <td>2</td>\n",
       "      <td>164</td>\n",
       "      <td>audi</td>\n",
       "      <td>gas</td>\n",
       "      <td>std</td>\n",
       "      <td>four</td>\n",
       "      <td>sedan</td>\n",
       "      <td>4wd</td>\n",
       "      <td>front</td>\n",
       "      <td>99.4</td>\n",
       "      <td>...</td>\n",
       "      <td>136</td>\n",
       "      <td>mpfi</td>\n",
       "      <td>3.19</td>\n",
       "      <td>3.4</td>\n",
       "      <td>8.0</td>\n",
       "      <td>115</td>\n",
       "      <td>5500</td>\n",
       "      <td>18</td>\n",
       "      <td>22</td>\n",
       "      <td>17450</td>\n",
       "    </tr>\n",
       "    <tr>\n",
       "      <th>...</th>\n",
       "      <td>...</td>\n",
       "      <td>...</td>\n",
       "      <td>...</td>\n",
       "      <td>...</td>\n",
       "      <td>...</td>\n",
       "      <td>...</td>\n",
       "      <td>...</td>\n",
       "      <td>...</td>\n",
       "      <td>...</td>\n",
       "      <td>...</td>\n",
       "      <td>...</td>\n",
       "      <td>...</td>\n",
       "      <td>...</td>\n",
       "      <td>...</td>\n",
       "      <td>...</td>\n",
       "      <td>...</td>\n",
       "      <td>...</td>\n",
       "      <td>...</td>\n",
       "      <td>...</td>\n",
       "      <td>...</td>\n",
       "      <td>...</td>\n",
       "    </tr>\n",
       "    <tr>\n",
       "      <th>200</th>\n",
       "      <td>-1</td>\n",
       "      <td>95</td>\n",
       "      <td>volvo</td>\n",
       "      <td>gas</td>\n",
       "      <td>std</td>\n",
       "      <td>four</td>\n",
       "      <td>sedan</td>\n",
       "      <td>rwd</td>\n",
       "      <td>front</td>\n",
       "      <td>109.1</td>\n",
       "      <td>...</td>\n",
       "      <td>141</td>\n",
       "      <td>mpfi</td>\n",
       "      <td>3.78</td>\n",
       "      <td>3.15</td>\n",
       "      <td>9.5</td>\n",
       "      <td>114</td>\n",
       "      <td>5400</td>\n",
       "      <td>23</td>\n",
       "      <td>28</td>\n",
       "      <td>16845</td>\n",
       "    </tr>\n",
       "    <tr>\n",
       "      <th>201</th>\n",
       "      <td>-1</td>\n",
       "      <td>95</td>\n",
       "      <td>volvo</td>\n",
       "      <td>gas</td>\n",
       "      <td>turbo</td>\n",
       "      <td>four</td>\n",
       "      <td>sedan</td>\n",
       "      <td>rwd</td>\n",
       "      <td>front</td>\n",
       "      <td>109.1</td>\n",
       "      <td>...</td>\n",
       "      <td>141</td>\n",
       "      <td>mpfi</td>\n",
       "      <td>3.78</td>\n",
       "      <td>3.15</td>\n",
       "      <td>8.7</td>\n",
       "      <td>160</td>\n",
       "      <td>5300</td>\n",
       "      <td>19</td>\n",
       "      <td>25</td>\n",
       "      <td>19045</td>\n",
       "    </tr>\n",
       "    <tr>\n",
       "      <th>202</th>\n",
       "      <td>-1</td>\n",
       "      <td>95</td>\n",
       "      <td>volvo</td>\n",
       "      <td>gas</td>\n",
       "      <td>std</td>\n",
       "      <td>four</td>\n",
       "      <td>sedan</td>\n",
       "      <td>rwd</td>\n",
       "      <td>front</td>\n",
       "      <td>109.1</td>\n",
       "      <td>...</td>\n",
       "      <td>173</td>\n",
       "      <td>mpfi</td>\n",
       "      <td>3.58</td>\n",
       "      <td>2.87</td>\n",
       "      <td>8.8</td>\n",
       "      <td>134</td>\n",
       "      <td>5500</td>\n",
       "      <td>18</td>\n",
       "      <td>23</td>\n",
       "      <td>21485</td>\n",
       "    </tr>\n",
       "    <tr>\n",
       "      <th>203</th>\n",
       "      <td>-1</td>\n",
       "      <td>95</td>\n",
       "      <td>volvo</td>\n",
       "      <td>diesel</td>\n",
       "      <td>turbo</td>\n",
       "      <td>four</td>\n",
       "      <td>sedan</td>\n",
       "      <td>rwd</td>\n",
       "      <td>front</td>\n",
       "      <td>109.1</td>\n",
       "      <td>...</td>\n",
       "      <td>145</td>\n",
       "      <td>idi</td>\n",
       "      <td>3.01</td>\n",
       "      <td>3.4</td>\n",
       "      <td>23.0</td>\n",
       "      <td>106</td>\n",
       "      <td>4800</td>\n",
       "      <td>26</td>\n",
       "      <td>27</td>\n",
       "      <td>22470</td>\n",
       "    </tr>\n",
       "    <tr>\n",
       "      <th>204</th>\n",
       "      <td>-1</td>\n",
       "      <td>95</td>\n",
       "      <td>volvo</td>\n",
       "      <td>gas</td>\n",
       "      <td>turbo</td>\n",
       "      <td>four</td>\n",
       "      <td>sedan</td>\n",
       "      <td>rwd</td>\n",
       "      <td>front</td>\n",
       "      <td>109.1</td>\n",
       "      <td>...</td>\n",
       "      <td>141</td>\n",
       "      <td>mpfi</td>\n",
       "      <td>3.78</td>\n",
       "      <td>3.15</td>\n",
       "      <td>9.5</td>\n",
       "      <td>114</td>\n",
       "      <td>5400</td>\n",
       "      <td>19</td>\n",
       "      <td>25</td>\n",
       "      <td>22625</td>\n",
       "    </tr>\n",
       "  </tbody>\n",
       "</table>\n",
       "<p>205 rows × 26 columns</p>\n",
       "</div>"
      ],
      "text/plain": [
       "     symboling normalized-losses         make fuel-type aspiration  \\\n",
       "0            3                 ?  alfa-romero       gas        std   \n",
       "1            3                 ?  alfa-romero       gas        std   \n",
       "2            1                 ?  alfa-romero       gas        std   \n",
       "3            2               164         audi       gas        std   \n",
       "4            2               164         audi       gas        std   \n",
       "..         ...               ...          ...       ...        ...   \n",
       "200         -1                95        volvo       gas        std   \n",
       "201         -1                95        volvo       gas      turbo   \n",
       "202         -1                95        volvo       gas        std   \n",
       "203         -1                95        volvo    diesel      turbo   \n",
       "204         -1                95        volvo       gas      turbo   \n",
       "\n",
       "    num-of-doors   body-style drive-wheels engine-location  wheel-base  ...  \\\n",
       "0            two  convertible          rwd           front        88.6  ...   \n",
       "1            two  convertible          rwd           front        88.6  ...   \n",
       "2            two    hatchback          rwd           front        94.5  ...   \n",
       "3           four        sedan          fwd           front        99.8  ...   \n",
       "4           four        sedan          4wd           front        99.4  ...   \n",
       "..           ...          ...          ...             ...         ...  ...   \n",
       "200         four        sedan          rwd           front       109.1  ...   \n",
       "201         four        sedan          rwd           front       109.1  ...   \n",
       "202         four        sedan          rwd           front       109.1  ...   \n",
       "203         four        sedan          rwd           front       109.1  ...   \n",
       "204         four        sedan          rwd           front       109.1  ...   \n",
       "\n",
       "     engine-size  fuel-system  bore  stroke compression-ratio horsepower  \\\n",
       "0            130         mpfi  3.47    2.68               9.0        111   \n",
       "1            130         mpfi  3.47    2.68               9.0        111   \n",
       "2            152         mpfi  2.68    3.47               9.0        154   \n",
       "3            109         mpfi  3.19     3.4              10.0        102   \n",
       "4            136         mpfi  3.19     3.4               8.0        115   \n",
       "..           ...          ...   ...     ...               ...        ...   \n",
       "200          141         mpfi  3.78    3.15               9.5        114   \n",
       "201          141         mpfi  3.78    3.15               8.7        160   \n",
       "202          173         mpfi  3.58    2.87               8.8        134   \n",
       "203          145          idi  3.01     3.4              23.0        106   \n",
       "204          141         mpfi  3.78    3.15               9.5        114   \n",
       "\n",
       "     peak-rpm city-mpg highway-mpg  price  \n",
       "0        5000       21          27  13495  \n",
       "1        5000       21          27  16500  \n",
       "2        5000       19          26  16500  \n",
       "3        5500       24          30  13950  \n",
       "4        5500       18          22  17450  \n",
       "..        ...      ...         ...    ...  \n",
       "200      5400       23          28  16845  \n",
       "201      5300       19          25  19045  \n",
       "202      5500       18          23  21485  \n",
       "203      4800       26          27  22470  \n",
       "204      5400       19          25  22625  \n",
       "\n",
       "[205 rows x 26 columns]"
      ]
     },
     "execution_count": 145,
     "metadata": {},
     "output_type": "execute_result"
    }
   ],
   "source": [
    "df = pd.read_csv(\"autos_dataset.csv\")\n",
    "df"
   ]
  },
  {
   "cell_type": "markdown",
   "id": "4c680688",
   "metadata": {},
   "source": [
    "### Step 3: Exploratory Data Analysis"
   ]
  },
  {
   "cell_type": "code",
   "execution_count": 3,
   "id": "286dcd71",
   "metadata": {},
   "outputs": [
    {
     "name": "stdout",
     "output_type": "stream",
     "text": [
      "<class 'pandas.core.frame.DataFrame'>\n",
      "RangeIndex: 205 entries, 0 to 204\n",
      "Data columns (total 26 columns):\n",
      " #   Column             Non-Null Count  Dtype  \n",
      "---  ------             --------------  -----  \n",
      " 0   symboling          205 non-null    int64  \n",
      " 1   normalized-losses  205 non-null    object \n",
      " 2   make               205 non-null    object \n",
      " 3   fuel-type          205 non-null    object \n",
      " 4   aspiration         205 non-null    object \n",
      " 5   num-of-doors       205 non-null    object \n",
      " 6   body-style         205 non-null    object \n",
      " 7   drive-wheels       205 non-null    object \n",
      " 8   engine-location    205 non-null    object \n",
      " 9   wheel-base         205 non-null    float64\n",
      " 10  length             205 non-null    float64\n",
      " 11  width              205 non-null    float64\n",
      " 12  height             205 non-null    float64\n",
      " 13  curb-weight        205 non-null    int64  \n",
      " 14  engine-type        205 non-null    object \n",
      " 15  num-of-cylinders   205 non-null    object \n",
      " 16  engine-size        205 non-null    int64  \n",
      " 17  fuel-system        205 non-null    object \n",
      " 18  bore               205 non-null    object \n",
      " 19  stroke             205 non-null    object \n",
      " 20  compression-ratio  205 non-null    float64\n",
      " 21  horsepower         205 non-null    object \n",
      " 22  peak-rpm           205 non-null    object \n",
      " 23  city-mpg           205 non-null    int64  \n",
      " 24  highway-mpg        205 non-null    int64  \n",
      " 25  price              205 non-null    object \n",
      "dtypes: float64(5), int64(5), object(16)\n",
      "memory usage: 41.8+ KB\n"
     ]
    }
   ],
   "source": [
    "df.info()"
   ]
  },
  {
   "cell_type": "code",
   "execution_count": 4,
   "id": "b430023e",
   "metadata": {},
   "outputs": [
    {
     "data": {
      "text/html": [
       "<div>\n",
       "<style scoped>\n",
       "    .dataframe tbody tr th:only-of-type {\n",
       "        vertical-align: middle;\n",
       "    }\n",
       "\n",
       "    .dataframe tbody tr th {\n",
       "        vertical-align: top;\n",
       "    }\n",
       "\n",
       "    .dataframe thead th {\n",
       "        text-align: right;\n",
       "    }\n",
       "</style>\n",
       "<table border=\"1\" class=\"dataframe\">\n",
       "  <thead>\n",
       "    <tr style=\"text-align: right;\">\n",
       "      <th></th>\n",
       "      <th>symboling</th>\n",
       "      <th>wheel-base</th>\n",
       "      <th>length</th>\n",
       "      <th>width</th>\n",
       "      <th>height</th>\n",
       "      <th>curb-weight</th>\n",
       "      <th>engine-size</th>\n",
       "      <th>compression-ratio</th>\n",
       "      <th>city-mpg</th>\n",
       "      <th>highway-mpg</th>\n",
       "    </tr>\n",
       "  </thead>\n",
       "  <tbody>\n",
       "    <tr>\n",
       "      <th>count</th>\n",
       "      <td>205.000000</td>\n",
       "      <td>205.000000</td>\n",
       "      <td>205.000000</td>\n",
       "      <td>205.000000</td>\n",
       "      <td>205.000000</td>\n",
       "      <td>205.000000</td>\n",
       "      <td>205.000000</td>\n",
       "      <td>205.000000</td>\n",
       "      <td>205.000000</td>\n",
       "      <td>205.000000</td>\n",
       "    </tr>\n",
       "    <tr>\n",
       "      <th>mean</th>\n",
       "      <td>0.834146</td>\n",
       "      <td>98.756585</td>\n",
       "      <td>174.049268</td>\n",
       "      <td>65.907805</td>\n",
       "      <td>53.724878</td>\n",
       "      <td>2555.565854</td>\n",
       "      <td>126.907317</td>\n",
       "      <td>10.142537</td>\n",
       "      <td>25.219512</td>\n",
       "      <td>30.751220</td>\n",
       "    </tr>\n",
       "    <tr>\n",
       "      <th>std</th>\n",
       "      <td>1.245307</td>\n",
       "      <td>6.021776</td>\n",
       "      <td>12.337289</td>\n",
       "      <td>2.145204</td>\n",
       "      <td>2.443522</td>\n",
       "      <td>520.680204</td>\n",
       "      <td>41.642693</td>\n",
       "      <td>3.972040</td>\n",
       "      <td>6.542142</td>\n",
       "      <td>6.886443</td>\n",
       "    </tr>\n",
       "    <tr>\n",
       "      <th>min</th>\n",
       "      <td>-2.000000</td>\n",
       "      <td>86.600000</td>\n",
       "      <td>141.100000</td>\n",
       "      <td>60.300000</td>\n",
       "      <td>47.800000</td>\n",
       "      <td>1488.000000</td>\n",
       "      <td>61.000000</td>\n",
       "      <td>7.000000</td>\n",
       "      <td>13.000000</td>\n",
       "      <td>16.000000</td>\n",
       "    </tr>\n",
       "    <tr>\n",
       "      <th>25%</th>\n",
       "      <td>0.000000</td>\n",
       "      <td>94.500000</td>\n",
       "      <td>166.300000</td>\n",
       "      <td>64.100000</td>\n",
       "      <td>52.000000</td>\n",
       "      <td>2145.000000</td>\n",
       "      <td>97.000000</td>\n",
       "      <td>8.600000</td>\n",
       "      <td>19.000000</td>\n",
       "      <td>25.000000</td>\n",
       "    </tr>\n",
       "    <tr>\n",
       "      <th>50%</th>\n",
       "      <td>1.000000</td>\n",
       "      <td>97.000000</td>\n",
       "      <td>173.200000</td>\n",
       "      <td>65.500000</td>\n",
       "      <td>54.100000</td>\n",
       "      <td>2414.000000</td>\n",
       "      <td>120.000000</td>\n",
       "      <td>9.000000</td>\n",
       "      <td>24.000000</td>\n",
       "      <td>30.000000</td>\n",
       "    </tr>\n",
       "    <tr>\n",
       "      <th>75%</th>\n",
       "      <td>2.000000</td>\n",
       "      <td>102.400000</td>\n",
       "      <td>183.100000</td>\n",
       "      <td>66.900000</td>\n",
       "      <td>55.500000</td>\n",
       "      <td>2935.000000</td>\n",
       "      <td>141.000000</td>\n",
       "      <td>9.400000</td>\n",
       "      <td>30.000000</td>\n",
       "      <td>34.000000</td>\n",
       "    </tr>\n",
       "    <tr>\n",
       "      <th>max</th>\n",
       "      <td>3.000000</td>\n",
       "      <td>120.900000</td>\n",
       "      <td>208.100000</td>\n",
       "      <td>72.300000</td>\n",
       "      <td>59.800000</td>\n",
       "      <td>4066.000000</td>\n",
       "      <td>326.000000</td>\n",
       "      <td>23.000000</td>\n",
       "      <td>49.000000</td>\n",
       "      <td>54.000000</td>\n",
       "    </tr>\n",
       "  </tbody>\n",
       "</table>\n",
       "</div>"
      ],
      "text/plain": [
       "        symboling  wheel-base      length       width      height  \\\n",
       "count  205.000000  205.000000  205.000000  205.000000  205.000000   \n",
       "mean     0.834146   98.756585  174.049268   65.907805   53.724878   \n",
       "std      1.245307    6.021776   12.337289    2.145204    2.443522   \n",
       "min     -2.000000   86.600000  141.100000   60.300000   47.800000   \n",
       "25%      0.000000   94.500000  166.300000   64.100000   52.000000   \n",
       "50%      1.000000   97.000000  173.200000   65.500000   54.100000   \n",
       "75%      2.000000  102.400000  183.100000   66.900000   55.500000   \n",
       "max      3.000000  120.900000  208.100000   72.300000   59.800000   \n",
       "\n",
       "       curb-weight  engine-size  compression-ratio    city-mpg  highway-mpg  \n",
       "count   205.000000   205.000000         205.000000  205.000000   205.000000  \n",
       "mean   2555.565854   126.907317          10.142537   25.219512    30.751220  \n",
       "std     520.680204    41.642693           3.972040    6.542142     6.886443  \n",
       "min    1488.000000    61.000000           7.000000   13.000000    16.000000  \n",
       "25%    2145.000000    97.000000           8.600000   19.000000    25.000000  \n",
       "50%    2414.000000   120.000000           9.000000   24.000000    30.000000  \n",
       "75%    2935.000000   141.000000           9.400000   30.000000    34.000000  \n",
       "max    4066.000000   326.000000          23.000000   49.000000    54.000000  "
      ]
     },
     "execution_count": 4,
     "metadata": {},
     "output_type": "execute_result"
    }
   ],
   "source": [
    "df.describe()"
   ]
  },
  {
   "cell_type": "code",
   "execution_count": 5,
   "id": "a0d6187d",
   "metadata": {},
   "outputs": [
    {
     "name": "stdout",
     "output_type": "stream",
     "text": [
      "No. of rows:  205\n",
      "No. of columns:  26\n"
     ]
    }
   ],
   "source": [
    "# finding the no. of rows and columns\n",
    "\n",
    "no_of_rows = df.shape[0]\n",
    "print(\"No. of rows: \", no_of_rows)\n",
    "\n",
    "no_of_columns = df.shape[1]\n",
    "print(\"No. of columns: \", no_of_columns)"
   ]
  },
  {
   "cell_type": "code",
   "execution_count": 6,
   "id": "5aacf119",
   "metadata": {
    "scrolled": false
   },
   "outputs": [
    {
     "data": {
      "text/plain": [
       "symboling            0\n",
       "normalized-losses    0\n",
       "make                 0\n",
       "fuel-type            0\n",
       "aspiration           0\n",
       "num-of-doors         0\n",
       "body-style           0\n",
       "drive-wheels         0\n",
       "engine-location      0\n",
       "wheel-base           0\n",
       "length               0\n",
       "width                0\n",
       "height               0\n",
       "curb-weight          0\n",
       "engine-type          0\n",
       "num-of-cylinders     0\n",
       "engine-size          0\n",
       "fuel-system          0\n",
       "bore                 0\n",
       "stroke               0\n",
       "compression-ratio    0\n",
       "horsepower           0\n",
       "peak-rpm             0\n",
       "city-mpg             0\n",
       "highway-mpg          0\n",
       "price                0\n",
       "dtype: int64"
      ]
     },
     "execution_count": 6,
     "metadata": {},
     "output_type": "execute_result"
    }
   ],
   "source": [
    "# Checking for missing values\n",
    "\n",
    "df.isna().sum()               # There is no missing values in this dataset"
   ]
  },
  {
   "cell_type": "code",
   "execution_count": 7,
   "id": "279647b1",
   "metadata": {},
   "outputs": [
    {
     "data": {
      "text/plain": [
       "<AxesSubplot:>"
      ]
     },
     "execution_count": 7,
     "metadata": {},
     "output_type": "execute_result"
    },
    {
     "data": {
      "image/png": "[encoded data removed]",
      "text/plain": [
       "<Figure size 2000x1000 with 1 Axes>"
      ]
     },
     "metadata": {},
     "output_type": "display_data"
    }
   ],
   "source": [
    "## Checking for outliers\n",
    "\n",
    "plt.figure(figsize=(20,10))\n",
    "df.boxplot()"
   ]
  },
  {
   "cell_type": "markdown",
   "id": "38416e27",
   "metadata": {},
   "source": [
    "#### From the boxplot we can see that there is outliers present in some of the columns"
   ]
  },
  {
   "cell_type": "markdown",
   "id": "f65cc680",
   "metadata": {},
   "source": [
    "### Step 4: Feature Engineering"
   ]
  },
  {
   "cell_type": "markdown",
   "id": "4fad2003",
   "metadata": {},
   "source": [
    "#### Outliers Handling"
   ]
  },
  {
   "cell_type": "code",
   "execution_count": 8,
   "id": "92b93782",
   "metadata": {},
   "outputs": [
    {
     "data": {
      "text/plain": [
       "<AxesSubplot:xlabel='wheel-base'>"
      ]
     },
     "execution_count": 8,
     "metadata": {},
     "output_type": "execute_result"
    },
    {
     "data": {
      "image/png": "[encoded data removed]",
      "text/plain": [
       "<Figure size 640x480 with 1 Axes>"
      ]
     },
     "metadata": {},
     "output_type": "display_data"
    }
   ],
   "source": [
    "sns.boxplot(x = df['wheel-base'])"
   ]
  },
  {
   "cell_type": "code",
   "execution_count": 9,
   "id": "7345671a",
   "metadata": {},
   "outputs": [
    {
     "name": "stdout",
     "output_type": "stream",
     "text": [
      "Q1 : 94.5\n",
      "Q2 : 97.0\n",
      "Q3 : 102.4\n",
      "Median : 97.0\n",
      "upper_tail : 114.25000000000001\n",
      "lower_tail : 82.64999999999999\n"
     ]
    }
   ],
   "source": [
    "# Ouliers finding by using IQR Method\n",
    "\n",
    "q1=df['wheel-base'].quantile(0.25)\n",
    "q2=df['wheel-base'].quantile(0.50)\n",
    "q3=df['wheel-base'].quantile(0.75)\n",
    "median=df['wheel-base'].median()\n",
    "IQR=q3-q1\n",
    "upper_tail = q3 + 1.5 * IQR\n",
    "lower_tail = q1 - 1.5 * IQR\n",
    "print(\"Q1 :\", q1)\n",
    "print(\"Q2 :\", q2)\n",
    "print(\"Q3 :\", q3)\n",
    "print(\"Median :\",median)\n",
    "print(\"upper_tail :\", upper_tail)\n",
    "print(\"lower_tail :\", lower_tail)"
   ]
  },
  {
   "cell_type": "code",
   "execution_count": 10,
   "id": "9cd68065",
   "metadata": {},
   "outputs": [
    {
     "data": {
      "text/plain": [
       "70    115.6\n",
       "71    115.6\n",
       "73    120.9\n",
       "Name: wheel-base, dtype: float64"
      ]
     },
     "execution_count": 10,
     "metadata": {},
     "output_type": "execute_result"
    }
   ],
   "source": [
    "# Detecting outliers in the column\n",
    "\n",
    "df['wheel-base'].loc[(df['wheel-base'] > upper_tail)]"
   ]
  },
  {
   "cell_type": "code",
   "execution_count": 11,
   "id": "71c5fc51",
   "metadata": {},
   "outputs": [
    {
     "data": {
      "text/plain": [
       "96.9"
      ]
     },
     "execution_count": 11,
     "metadata": {},
     "output_type": "execute_result"
    }
   ],
   "source": [
    "# Calculating the median of good data of Item_Visibility column\n",
    "\n",
    "median_wheel_base = df['wheel-base'].loc[(df['wheel-base'] <= upper_tail)].median()\n",
    "median_wheel_base"
   ]
  },
  {
   "cell_type": "code",
   "execution_count": 12,
   "id": "b93a1111",
   "metadata": {},
   "outputs": [],
   "source": [
    "# Imputing outliers by median value\n",
    "\n",
    "df['wheel-base'].loc[(df['wheel-base'] > upper_tail)] = median_wheel_base "
   ]
  },
  {
   "cell_type": "code",
   "execution_count": 13,
   "id": "400c7489",
   "metadata": {},
   "outputs": [
    {
     "data": {
      "text/html": [
       "<div>\n",
       "<style scoped>\n",
       "    .dataframe tbody tr th:only-of-type {\n",
       "        vertical-align: middle;\n",
       "    }\n",
       "\n",
       "    .dataframe tbody tr th {\n",
       "        vertical-align: top;\n",
       "    }\n",
       "\n",
       "    .dataframe thead th {\n",
       "        text-align: right;\n",
       "    }\n",
       "</style>\n",
       "<table border=\"1\" class=\"dataframe\">\n",
       "  <thead>\n",
       "    <tr style=\"text-align: right;\">\n",
       "      <th></th>\n",
       "      <th>wheel-base</th>\n",
       "    </tr>\n",
       "  </thead>\n",
       "  <tbody>\n",
       "  </tbody>\n",
       "</table>\n",
       "</div>"
      ],
      "text/plain": [
       "Empty DataFrame\n",
       "Columns: [wheel-base]\n",
       "Index: []"
      ]
     },
     "execution_count": 13,
     "metadata": {},
     "output_type": "execute_result"
    }
   ],
   "source": [
    "# Checking outliers after imputation\n",
    "\n",
    "df[['wheel-base']].loc[(df['wheel-base'] > upper_tail)]"
   ]
  },
  {
   "cell_type": "code",
   "execution_count": 14,
   "id": "452c6612",
   "metadata": {},
   "outputs": [
    {
     "data": {
      "text/plain": [
       "<AxesSubplot:xlabel='width'>"
      ]
     },
     "execution_count": 14,
     "metadata": {},
     "output_type": "execute_result"
    },
    {
     "data": {
      "image/png": "[encoded data removed]",
      "text/plain": [
       "<Figure size 640x480 with 1 Axes>"
      ]
     },
     "metadata": {},
     "output_type": "display_data"
    }
   ],
   "source": [
    "sns.boxplot(x = df['width'])"
   ]
  },
  {
   "cell_type": "code",
   "execution_count": 15,
   "id": "c279656d",
   "metadata": {},
   "outputs": [
    {
     "name": "stdout",
     "output_type": "stream",
     "text": [
      "Q1 : 64.1\n",
      "Q2 : 65.5\n",
      "Q3 : 66.9\n",
      "Median : 65.5\n",
      "upper_tail : 71.10000000000002\n",
      "lower_tail : 59.89999999999998\n"
     ]
    }
   ],
   "source": [
    "# Ouliers finding by using IQR Method\n",
    "\n",
    "q1= df['width'].quantile(0.25)\n",
    "q2= df['width'].quantile(0.50)\n",
    "q3= df['width'].quantile(0.75)\n",
    "median= df['width'].median()\n",
    "IQR=q3-q1\n",
    "upper_tail = q3 + 1.5 * IQR\n",
    "lower_tail = q1 - 1.5 * IQR\n",
    "print(\"Q1 :\", q1)\n",
    "print(\"Q2 :\", q2)\n",
    "print(\"Q3 :\", q3)\n",
    "print(\"Median :\",median)\n",
    "print(\"upper_tail :\", upper_tail)\n",
    "print(\"lower_tail :\", lower_tail)"
   ]
  },
  {
   "cell_type": "code",
   "execution_count": 16,
   "id": "9a4e646d",
   "metadata": {},
   "outputs": [
    {
     "data": {
      "text/plain": [
       "6      71.4\n",
       "7      71.4\n",
       "8      71.4\n",
       "70     71.7\n",
       "71     71.7\n",
       "73     71.7\n",
       "74     72.0\n",
       "129    72.3\n",
       "Name: width, dtype: float64"
      ]
     },
     "execution_count": 16,
     "metadata": {},
     "output_type": "execute_result"
    }
   ],
   "source": [
    "# Detecting outliers in the column\n",
    "\n",
    "df['width'].loc[(df['width'] > upper_tail)]"
   ]
  },
  {
   "cell_type": "code",
   "execution_count": 17,
   "id": "d6d81f0a",
   "metadata": {},
   "outputs": [
    {
     "data": {
      "text/plain": [
       "65.4"
      ]
     },
     "execution_count": 17,
     "metadata": {},
     "output_type": "execute_result"
    }
   ],
   "source": [
    "# Calculating the median of good data of Item_Visibility column\n",
    "\n",
    "median_width = df['width'].loc[(df['width'] <= upper_tail)].median()\n",
    "median_width"
   ]
  },
  {
   "cell_type": "code",
   "execution_count": 18,
   "id": "b1b36d24",
   "metadata": {},
   "outputs": [],
   "source": [
    "# Imputing outliers by median value\n",
    "\n",
    "df['width'].loc[(df['width'] > upper_tail)] = median_width"
   ]
  },
  {
   "cell_type": "code",
   "execution_count": 19,
   "id": "ce9e9449",
   "metadata": {},
   "outputs": [
    {
     "data": {
      "text/html": [
       "<div>\n",
       "<style scoped>\n",
       "    .dataframe tbody tr th:only-of-type {\n",
       "        vertical-align: middle;\n",
       "    }\n",
       "\n",
       "    .dataframe tbody tr th {\n",
       "        vertical-align: top;\n",
       "    }\n",
       "\n",
       "    .dataframe thead th {\n",
       "        text-align: right;\n",
       "    }\n",
       "</style>\n",
       "<table border=\"1\" class=\"dataframe\">\n",
       "  <thead>\n",
       "    <tr style=\"text-align: right;\">\n",
       "      <th></th>\n",
       "      <th>width</th>\n",
       "    </tr>\n",
       "  </thead>\n",
       "  <tbody>\n",
       "  </tbody>\n",
       "</table>\n",
       "</div>"
      ],
      "text/plain": [
       "Empty DataFrame\n",
       "Columns: [width]\n",
       "Index: []"
      ]
     },
     "execution_count": 19,
     "metadata": {},
     "output_type": "execute_result"
    }
   ],
   "source": [
    "# Checking outliers after imputation\n",
    "df[['width']].loc[(df['width'] > upper_tail)]"
   ]
  },
  {
   "cell_type": "code",
   "execution_count": 20,
   "id": "a66136b5",
   "metadata": {},
   "outputs": [
    {
     "data": {
      "text/plain": [
       "<AxesSubplot:xlabel='engine-size'>"
      ]
     },
     "execution_count": 20,
     "metadata": {},
     "output_type": "execute_result"
    },
    {
     "data": {
      "image/png": "[encoded data removed]",
      "text/plain": [
       "<Figure size 640x480 with 1 Axes>"
      ]
     },
     "metadata": {},
     "output_type": "display_data"
    }
   ],
   "source": [
    "sns.boxplot(x = df['engine-size'])"
   ]
  },
  {
   "cell_type": "code",
   "execution_count": 21,
   "id": "fd8312e7",
   "metadata": {},
   "outputs": [
    {
     "name": "stdout",
     "output_type": "stream",
     "text": [
      "Q1 : 97.0\n",
      "Q2 : 120.0\n",
      "Q3 : 141.0\n",
      "Median : 120.0\n",
      "upper_tail : 207.0\n",
      "lower_tail : 31.0\n"
     ]
    }
   ],
   "source": [
    "# Ouliers finding by using IQR Method\n",
    "\n",
    "q1= df['engine-size'].quantile(0.25)\n",
    "q2= df['engine-size'].quantile(0.50)\n",
    "q3= df['engine-size'].quantile(0.75)\n",
    "median= df['engine-size'].median()\n",
    "IQR=q3-q1\n",
    "upper_tail = q3 + 1.5 * IQR\n",
    "lower_tail = q1 - 1.5 * IQR\n",
    "print(\"Q1 :\", q1)\n",
    "print(\"Q2 :\", q2)\n",
    "print(\"Q3 :\", q3)\n",
    "print(\"Median :\",median)\n",
    "print(\"upper_tail :\", upper_tail)\n",
    "print(\"lower_tail :\", lower_tail)"
   ]
  },
  {
   "cell_type": "code",
   "execution_count": 22,
   "id": "b0f3fb1e",
   "metadata": {},
   "outputs": [
    {
     "data": {
      "text/plain": [
       "15    209\n",
       "16    209\n",
       "17    209\n",
       "47    258\n",
       "48    258\n",
       "49    326\n",
       "71    234\n",
       "72    234\n",
       "73    308\n",
       "74    304\n",
       "Name: engine-size, dtype: int64"
      ]
     },
     "execution_count": 22,
     "metadata": {},
     "output_type": "execute_result"
    }
   ],
   "source": [
    "# Detecting outliers in the column\n",
    "\n",
    "df['engine-size'].loc[(df['engine-size'] > upper_tail)]"
   ]
  },
  {
   "cell_type": "code",
   "execution_count": 23,
   "id": "5e0829f1",
   "metadata": {},
   "outputs": [],
   "source": [
    "# Imputing outliers by upper_tail value\n",
    "\n",
    "df['engine-size'].loc[(df['engine-size'] > upper_tail)] = upper_tail"
   ]
  },
  {
   "cell_type": "code",
   "execution_count": 24,
   "id": "b2dfc037",
   "metadata": {},
   "outputs": [
    {
     "data": {
      "text/html": [
       "<div>\n",
       "<style scoped>\n",
       "    .dataframe tbody tr th:only-of-type {\n",
       "        vertical-align: middle;\n",
       "    }\n",
       "\n",
       "    .dataframe tbody tr th {\n",
       "        vertical-align: top;\n",
       "    }\n",
       "\n",
       "    .dataframe thead th {\n",
       "        text-align: right;\n",
       "    }\n",
       "</style>\n",
       "<table border=\"1\" class=\"dataframe\">\n",
       "  <thead>\n",
       "    <tr style=\"text-align: right;\">\n",
       "      <th></th>\n",
       "      <th>engine-size</th>\n",
       "    </tr>\n",
       "  </thead>\n",
       "  <tbody>\n",
       "  </tbody>\n",
       "</table>\n",
       "</div>"
      ],
      "text/plain": [
       "Empty DataFrame\n",
       "Columns: [engine-size]\n",
       "Index: []"
      ]
     },
     "execution_count": 24,
     "metadata": {},
     "output_type": "execute_result"
    }
   ],
   "source": [
    "# Checking outliers after imputation\n",
    "\n",
    "df[['engine-size']].loc[(df['engine-size'] > upper_tail)] "
   ]
  },
  {
   "cell_type": "code",
   "execution_count": 25,
   "id": "57e1d1d4",
   "metadata": {},
   "outputs": [
    {
     "data": {
      "text/plain": [
       "<AxesSubplot:xlabel='compression-ratio'>"
      ]
     },
     "execution_count": 25,
     "metadata": {},
     "output_type": "execute_result"
    },
    {
     "data": {
      "image/png": "[encoded data removed]",
      "text/plain": [
       "<Figure size 640x480 with 1 Axes>"
      ]
     },
     "metadata": {},
     "output_type": "display_data"
    }
   ],
   "source": [
    "sns.boxplot(x = df['compression-ratio'])"
   ]
  },
  {
   "cell_type": "code",
   "execution_count": 26,
   "id": "15d0927b",
   "metadata": {},
   "outputs": [
    {
     "name": "stdout",
     "output_type": "stream",
     "text": [
      "Q1 : 8.6\n",
      "Q2 : 9.0\n",
      "Q3 : 9.4\n",
      "Median : 9.0\n",
      "upper_tail : 10.600000000000001\n",
      "lower_tail : 7.399999999999999\n"
     ]
    }
   ],
   "source": [
    "# Ouliers finding by using IQR Method\n",
    "\n",
    "q1= df['compression-ratio'].quantile(0.25)\n",
    "q2= df['compression-ratio'].quantile(0.50)\n",
    "q3= df['compression-ratio'].quantile(0.75)\n",
    "median= df['compression-ratio'].median()\n",
    "IQR=q3-q1\n",
    "upper_tail = q3 + 1.5 * IQR\n",
    "lower_tail = q1 - 1.5 * IQR\n",
    "print(\"Q1 :\", q1)\n",
    "print(\"Q2 :\", q2)\n",
    "print(\"Q3 :\", q3)\n",
    "print(\"Median :\",median)\n",
    "print(\"upper_tail :\", upper_tail)\n",
    "print(\"lower_tail :\", lower_tail)"
   ]
  },
  {
   "cell_type": "code",
   "execution_count": 27,
   "id": "d6ee1d05",
   "metadata": {},
   "outputs": [
    {
     "data": {
      "text/plain": [
       "9       7.0\n",
       "29      7.0\n",
       "49     11.5\n",
       "63     22.7\n",
       "66     22.0\n",
       "67     21.5\n",
       "68     21.5\n",
       "69     21.5\n",
       "70     21.5\n",
       "82      7.0\n",
       "83      7.0\n",
       "84      7.0\n",
       "90     21.9\n",
       "108    21.0\n",
       "110    21.0\n",
       "112    21.0\n",
       "114    21.0\n",
       "116    21.0\n",
       "117     7.0\n",
       "124     7.0\n",
       "158    22.5\n",
       "159    22.5\n",
       "174    22.5\n",
       "182    23.0\n",
       "184    23.0\n",
       "187    23.0\n",
       "192    23.0\n",
       "203    23.0\n",
       "Name: compression-ratio, dtype: float64"
      ]
     },
     "execution_count": 27,
     "metadata": {},
     "output_type": "execute_result"
    }
   ],
   "source": [
    "# Detecting outliers in the column\n",
    "\n",
    "outliers = df['compression-ratio'].loc[(df['compression-ratio'] > upper_tail) | (df['compression-ratio'] < lower_tail)]\n",
    "outliers"
   ]
  },
  {
   "cell_type": "code",
   "execution_count": 28,
   "id": "e42dd478",
   "metadata": {},
   "outputs": [],
   "source": [
    "# Imputing outliers by upper_tail and lower_tail values\n",
    "\n",
    "df['compression-ratio'].loc[(df['compression-ratio'] > upper_tail)] = upper_tail\n",
    "df['compression-ratio'].loc[(df['compression-ratio'] < lower_tail)] = lower_tail"
   ]
  },
  {
   "cell_type": "code",
   "execution_count": 29,
   "id": "b301e8b0",
   "metadata": {},
   "outputs": [
    {
     "data": {
      "text/html": [
       "<div>\n",
       "<style scoped>\n",
       "    .dataframe tbody tr th:only-of-type {\n",
       "        vertical-align: middle;\n",
       "    }\n",
       "\n",
       "    .dataframe tbody tr th {\n",
       "        vertical-align: top;\n",
       "    }\n",
       "\n",
       "    .dataframe thead th {\n",
       "        text-align: right;\n",
       "    }\n",
       "</style>\n",
       "<table border=\"1\" class=\"dataframe\">\n",
       "  <thead>\n",
       "    <tr style=\"text-align: right;\">\n",
       "      <th></th>\n",
       "      <th>compression-ratio</th>\n",
       "    </tr>\n",
       "  </thead>\n",
       "  <tbody>\n",
       "  </tbody>\n",
       "</table>\n",
       "</div>"
      ],
      "text/plain": [
       "Empty DataFrame\n",
       "Columns: [compression-ratio]\n",
       "Index: []"
      ]
     },
     "execution_count": 29,
     "metadata": {},
     "output_type": "execute_result"
    }
   ],
   "source": [
    "# Checking outliers after imputation\n",
    "\n",
    "df[['compression-ratio']].loc[(df['compression-ratio'] > upper_tail) | (df['compression-ratio'] < lower_tail)]"
   ]
  },
  {
   "cell_type": "code",
   "execution_count": 30,
   "id": "637a5a7c",
   "metadata": {},
   "outputs": [
    {
     "data": {
      "text/plain": [
       "<AxesSubplot:xlabel='city-mpg'>"
      ]
     },
     "execution_count": 30,
     "metadata": {},
     "output_type": "execute_result"
    },
    {
     "data": {
      "image/png": "[encoded data removed]",
      "text/plain": [
       "<Figure size 640x480 with 1 Axes>"
      ]
     },
     "metadata": {},
     "output_type": "display_data"
    }
   ],
   "source": [
    "sns.boxplot(x = df['city-mpg'])"
   ]
  },
  {
   "cell_type": "code",
   "execution_count": 31,
   "id": "4e9363a5",
   "metadata": {},
   "outputs": [
    {
     "name": "stdout",
     "output_type": "stream",
     "text": [
      "Q1 : 19.0\n",
      "Q2 : 24.0\n",
      "Q3 : 30.0\n",
      "upper_tail : 46.5\n",
      "lower_tail : 2.5\n"
     ]
    }
   ],
   "source": [
    "# Ouliers finding by using IQR Method\n",
    "\n",
    "q1= df['city-mpg'].quantile(0.25)\n",
    "q2= df['city-mpg'].quantile(0.50)\n",
    "q3= df['city-mpg'].quantile(0.75)\n",
    "\n",
    "IQR=q3-q1\n",
    "upper_tail = q3 + 1.5 * IQR\n",
    "lower_tail = q1 - 1.5 * IQR\n",
    "print(\"Q1 :\", q1)\n",
    "print(\"Q2 :\", q2)\n",
    "print(\"Q3 :\", q3)\n",
    "\n",
    "print(\"upper_tail :\", upper_tail)\n",
    "print(\"lower_tail :\", lower_tail)"
   ]
  },
  {
   "cell_type": "code",
   "execution_count": 32,
   "id": "e27ded69",
   "metadata": {},
   "outputs": [
    {
     "data": {
      "text/plain": [
       "18    47\n",
       "30    49\n",
       "Name: city-mpg, dtype: int64"
      ]
     },
     "execution_count": 32,
     "metadata": {},
     "output_type": "execute_result"
    }
   ],
   "source": [
    "# Detecting outliers in the column\n",
    "\n",
    "df['city-mpg'].loc[(df['city-mpg'] > upper_tail)]\n"
   ]
  },
  {
   "cell_type": "code",
   "execution_count": 33,
   "id": "47326028",
   "metadata": {},
   "outputs": [],
   "source": [
    "# Imputation of outliers with upper_tail,value\n",
    "\n",
    "df['city-mpg'].loc[(df['city-mpg'] > upper_tail)] = upper_tail"
   ]
  },
  {
   "cell_type": "code",
   "execution_count": 34,
   "id": "881057d7",
   "metadata": {},
   "outputs": [
    {
     "data": {
      "text/html": [
       "<div>\n",
       "<style scoped>\n",
       "    .dataframe tbody tr th:only-of-type {\n",
       "        vertical-align: middle;\n",
       "    }\n",
       "\n",
       "    .dataframe tbody tr th {\n",
       "        vertical-align: top;\n",
       "    }\n",
       "\n",
       "    .dataframe thead th {\n",
       "        text-align: right;\n",
       "    }\n",
       "</style>\n",
       "<table border=\"1\" class=\"dataframe\">\n",
       "  <thead>\n",
       "    <tr style=\"text-align: right;\">\n",
       "      <th></th>\n",
       "      <th>city-mpg</th>\n",
       "    </tr>\n",
       "  </thead>\n",
       "  <tbody>\n",
       "  </tbody>\n",
       "</table>\n",
       "</div>"
      ],
      "text/plain": [
       "Empty DataFrame\n",
       "Columns: [city-mpg]\n",
       "Index: []"
      ]
     },
     "execution_count": 34,
     "metadata": {},
     "output_type": "execute_result"
    }
   ],
   "source": [
    "# Rechecking outliers after imputation\n",
    "\n",
    "df[['city-mpg']].loc[(df['city-mpg'] > upper_tail)]"
   ]
  },
  {
   "cell_type": "code",
   "execution_count": 35,
   "id": "c7d53af7",
   "metadata": {},
   "outputs": [
    {
     "data": {
      "text/plain": [
       "<AxesSubplot:xlabel='highway-mpg'>"
      ]
     },
     "execution_count": 35,
     "metadata": {},
     "output_type": "execute_result"
    },
    {
     "data": {
      "image/png": "[encoded data removed]",
      "text/plain": [
       "<Figure size 640x480 with 1 Axes>"
      ]
     },
     "metadata": {},
     "output_type": "display_data"
    }
   ],
   "source": [
    "sns.boxplot(x = df['highway-mpg'])"
   ]
  },
  {
   "cell_type": "code",
   "execution_count": 36,
   "id": "401ab1aa",
   "metadata": {},
   "outputs": [
    {
     "name": "stdout",
     "output_type": "stream",
     "text": [
      "Q1 : 25.0\n",
      "Q2 : 30.0\n",
      "Q3 : 34.0\n",
      "upper_tail : 47.5\n",
      "lower_tail : 11.5\n"
     ]
    }
   ],
   "source": [
    "# Ouliers finding by using IQR Method\n",
    "\n",
    "q1= df['highway-mpg'].quantile(0.25)\n",
    "q2= df['highway-mpg'].quantile(0.50)\n",
    "q3= df['highway-mpg'].quantile(0.75)\n",
    "\n",
    "IQR=q3-q1\n",
    "upper_tail = q3 + 1.5 * IQR\n",
    "lower_tail = q1 - 1.5 * IQR\n",
    "print(\"Q1 :\", q1)\n",
    "print(\"Q2 :\", q2)\n",
    "print(\"Q3 :\", q3)\n",
    "\n",
    "print(\"upper_tail :\", upper_tail)\n",
    "print(\"lower_tail :\", lower_tail)"
   ]
  },
  {
   "cell_type": "code",
   "execution_count": 37,
   "id": "ebea909d",
   "metadata": {},
   "outputs": [
    {
     "data": {
      "text/plain": [
       "18    53\n",
       "30    54\n",
       "90    50\n",
       "Name: highway-mpg, dtype: int64"
      ]
     },
     "execution_count": 37,
     "metadata": {},
     "output_type": "execute_result"
    }
   ],
   "source": [
    "# Detecting outliers in the column\n",
    "\n",
    "df['highway-mpg'].loc[(df['highway-mpg'] > upper_tail)]"
   ]
  },
  {
   "cell_type": "code",
   "execution_count": 38,
   "id": "c8778a41",
   "metadata": {},
   "outputs": [],
   "source": [
    "# Imputation of outliers with upper_tail,value\n",
    "\n",
    "df['highway-mpg'].loc[(df['highway-mpg'] > upper_tail)] = upper_tail"
   ]
  },
  {
   "cell_type": "code",
   "execution_count": 39,
   "id": "e8f27a58",
   "metadata": {},
   "outputs": [
    {
     "data": {
      "text/html": [
       "<div>\n",
       "<style scoped>\n",
       "    .dataframe tbody tr th:only-of-type {\n",
       "        vertical-align: middle;\n",
       "    }\n",
       "\n",
       "    .dataframe tbody tr th {\n",
       "        vertical-align: top;\n",
       "    }\n",
       "\n",
       "    .dataframe thead th {\n",
       "        text-align: right;\n",
       "    }\n",
       "</style>\n",
       "<table border=\"1\" class=\"dataframe\">\n",
       "  <thead>\n",
       "    <tr style=\"text-align: right;\">\n",
       "      <th></th>\n",
       "      <th>highway-mpg</th>\n",
       "    </tr>\n",
       "  </thead>\n",
       "  <tbody>\n",
       "  </tbody>\n",
       "</table>\n",
       "</div>"
      ],
      "text/plain": [
       "Empty DataFrame\n",
       "Columns: [highway-mpg]\n",
       "Index: []"
      ]
     },
     "execution_count": 39,
     "metadata": {},
     "output_type": "execute_result"
    }
   ],
   "source": [
    "# Rechecking the outliers after imputation\n",
    "\n",
    "df[['highway-mpg']].loc[(df['highway-mpg'] > upper_tail)]"
   ]
  },
  {
   "cell_type": "markdown",
   "id": "f025bdf3",
   "metadata": {},
   "source": [
    "### Converting Categorical Columns into Numerical column"
   ]
  },
  {
   "cell_type": "code",
   "execution_count": 40,
   "id": "cb7b8f91",
   "metadata": {},
   "outputs": [
    {
     "name": "stdout",
     "output_type": "stream",
     "text": [
      "<class 'pandas.core.frame.DataFrame'>\n",
      "RangeIndex: 205 entries, 0 to 204\n",
      "Data columns (total 26 columns):\n",
      " #   Column             Non-Null Count  Dtype  \n",
      "---  ------             --------------  -----  \n",
      " 0   symboling          205 non-null    int64  \n",
      " 1   normalized-losses  205 non-null    object \n",
      " 2   make               205 non-null    object \n",
      " 3   fuel-type          205 non-null    object \n",
      " 4   aspiration         205 non-null    object \n",
      " 5   num-of-doors       205 non-null    object \n",
      " 6   body-style         205 non-null    object \n",
      " 7   drive-wheels       205 non-null    object \n",
      " 8   engine-location    205 non-null    object \n",
      " 9   wheel-base         205 non-null    float64\n",
      " 10  length             205 non-null    float64\n",
      " 11  width              205 non-null    float64\n",
      " 12  height             205 non-null    float64\n",
      " 13  curb-weight        205 non-null    int64  \n",
      " 14  engine-type        205 non-null    object \n",
      " 15  num-of-cylinders   205 non-null    object \n",
      " 16  engine-size        205 non-null    int64  \n",
      " 17  fuel-system        205 non-null    object \n",
      " 18  bore               205 non-null    object \n",
      " 19  stroke             205 non-null    object \n",
      " 20  compression-ratio  205 non-null    float64\n",
      " 21  horsepower         205 non-null    object \n",
      " 22  peak-rpm           205 non-null    object \n",
      " 23  city-mpg           205 non-null    float64\n",
      " 24  highway-mpg        205 non-null    float64\n",
      " 25  price              205 non-null    object \n",
      "dtypes: float64(7), int64(3), object(16)\n",
      "memory usage: 41.8+ KB\n"
     ]
    }
   ],
   "source": [
    "df.info()"
   ]
  },
  {
   "cell_type": "markdown",
   "id": "a5b767d6",
   "metadata": {},
   "source": [
    "### 1. normalized-losses"
   ]
  },
  {
   "cell_type": "code",
   "execution_count": 147,
   "id": "a0f4c8d0",
   "metadata": {},
   "outputs": [
    {
     "data": {
      "text/plain": [
       "0        ?\n",
       "1        ?\n",
       "2        ?\n",
       "3      164\n",
       "4      164\n",
       "      ... \n",
       "200     95\n",
       "201     95\n",
       "202     95\n",
       "203     95\n",
       "204     95\n",
       "Name: normalized-losses, Length: 205, dtype: object"
      ]
     },
     "execution_count": 147,
     "metadata": {},
     "output_type": "execute_result"
    }
   ],
   "source": [
    "df['normalized-losses']"
   ]
  },
  {
   "cell_type": "code",
   "execution_count": 148,
   "id": "3bfa0ee9",
   "metadata": {
    "scrolled": true
   },
   "outputs": [
    {
     "data": {
      "text/plain": [
       "?      41\n",
       "161    11\n",
       "91      8\n",
       "150     7\n",
       "134     6\n",
       "128     6\n",
       "104     6\n",
       "85      5\n",
       "94      5\n",
       "65      5\n",
       "102     5\n",
       "74      5\n",
       "168     5\n",
       "103     5\n",
       "95      5\n",
       "106     4\n",
       "93      4\n",
       "118     4\n",
       "148     4\n",
       "122     4\n",
       "83      3\n",
       "125     3\n",
       "154     3\n",
       "115     3\n",
       "137     3\n",
       "101     3\n",
       "119     2\n",
       "87      2\n",
       "89      2\n",
       "192     2\n",
       "197     2\n",
       "158     2\n",
       "81      2\n",
       "188     2\n",
       "194     2\n",
       "153     2\n",
       "129     2\n",
       "108     2\n",
       "110     2\n",
       "164     2\n",
       "145     2\n",
       "113     2\n",
       "256     1\n",
       "107     1\n",
       "90      1\n",
       "231     1\n",
       "142     1\n",
       "121     1\n",
       "78      1\n",
       "98      1\n",
       "186     1\n",
       "77      1\n",
       "Name: normalized-losses, dtype: int64"
      ]
     },
     "execution_count": 148,
     "metadata": {},
     "output_type": "execute_result"
    }
   ],
   "source": [
    "df['normalized-losses'].value_counts()"
   ]
  },
  {
   "cell_type": "code",
   "execution_count": 149,
   "id": "4938ab59",
   "metadata": {},
   "outputs": [],
   "source": [
    "df['normalized-losses'].replace({\"?\": np.nan},inplace=True)"
   ]
  },
  {
   "cell_type": "code",
   "execution_count": 150,
   "id": "8d6f5894",
   "metadata": {},
   "outputs": [],
   "source": [
    "df.replace({\"?\": np.nan},inplace=True)"
   ]
  },
  {
   "cell_type": "code",
   "execution_count": 151,
   "id": "60d4a12a",
   "metadata": {},
   "outputs": [
    {
     "data": {
      "text/plain": [
       "41"
      ]
     },
     "execution_count": 151,
     "metadata": {},
     "output_type": "execute_result"
    }
   ],
   "source": [
    "# Checking for missing value\n",
    "df['normalized-losses'].isna().sum()"
   ]
  },
  {
   "cell_type": "code",
   "execution_count": 152,
   "id": "4bc06b57",
   "metadata": {},
   "outputs": [],
   "source": [
    "# converting into numeric data type\n",
    "\n",
    "df['normalized-losses'] = df['normalized-losses'].astype(float)"
   ]
  },
  {
   "cell_type": "raw",
   "id": "9af648b7",
   "metadata": {},
   "source": [
    "# Outliers checking\n",
    "\n",
    "sns.boxplot(x = df['normalized-losses'])"
   ]
  },
  {
   "cell_type": "code",
   "execution_count": 154,
   "id": "d25646b4",
   "metadata": {},
   "outputs": [],
   "source": [
    "# imputaion of missing value with median value because outliers are present in the dataset\n",
    "\n",
    "df['normalized-losses'].fillna(df['normalized-losses'].median(), inplace=True)"
   ]
  },
  {
   "cell_type": "code",
   "execution_count": 155,
   "id": "d8b5d61c",
   "metadata": {},
   "outputs": [
    {
     "data": {
      "text/plain": [
       "0"
      ]
     },
     "execution_count": 155,
     "metadata": {},
     "output_type": "execute_result"
    }
   ],
   "source": [
    "# Rechecking for missing value\n",
    "df['normalized-losses'].isna().sum()"
   ]
  },
  {
   "cell_type": "markdown",
   "id": "29c71815",
   "metadata": {},
   "source": [
    "### 2. make"
   ]
  },
  {
   "cell_type": "code",
   "execution_count": 156,
   "id": "c737deff",
   "metadata": {},
   "outputs": [
    {
     "data": {
      "text/plain": [
       "0"
      ]
     },
     "execution_count": 156,
     "metadata": {},
     "output_type": "execute_result"
    }
   ],
   "source": [
    "df['make'].isna().sum()"
   ]
  },
  {
   "cell_type": "code",
   "execution_count": 157,
   "id": "7eca78cb",
   "metadata": {},
   "outputs": [
    {
     "data": {
      "text/plain": [
       "22"
      ]
     },
     "execution_count": 157,
     "metadata": {},
     "output_type": "execute_result"
    }
   ],
   "source": [
    "df['make'].nunique()"
   ]
  },
  {
   "cell_type": "code",
   "execution_count": 158,
   "id": "d2274bec",
   "metadata": {
    "scrolled": true
   },
   "outputs": [
    {
     "data": {
      "text/plain": [
       "toyota           32\n",
       "nissan           18\n",
       "mazda            17\n",
       "mitsubishi       13\n",
       "honda            13\n",
       "volkswagen       12\n",
       "subaru           12\n",
       "peugot           11\n",
       "volvo            11\n",
       "dodge             9\n",
       "mercedes-benz     8\n",
       "bmw               8\n",
       "audi              7\n",
       "plymouth          7\n",
       "saab              6\n",
       "porsche           5\n",
       "isuzu             4\n",
       "jaguar            3\n",
       "chevrolet         3\n",
       "alfa-romero       3\n",
       "renault           2\n",
       "mercury           1\n",
       "Name: make, dtype: int64"
      ]
     },
     "execution_count": 158,
     "metadata": {},
     "output_type": "execute_result"
    }
   ],
   "source": [
    "df['make'].value_counts()"
   ]
  },
  {
   "cell_type": "code",
   "execution_count": 159,
   "id": "f4d9bc62",
   "metadata": {},
   "outputs": [],
   "source": [
    "# Converting categorical values into numeric value by using get_dummies\n",
    "\n",
    "df = pd.get_dummies(df, columns = ['make'])"
   ]
  },
  {
   "cell_type": "markdown",
   "id": "ca977c52",
   "metadata": {},
   "source": [
    "### 3. fuel-type"
   ]
  },
  {
   "cell_type": "code",
   "execution_count": 217,
   "id": "e663bcc2",
   "metadata": {},
   "outputs": [
    {
     "data": {
      "text/plain": [
       "1    185\n",
       "0     20\n",
       "Name: fuel-type, dtype: int64"
      ]
     },
     "execution_count": 217,
     "metadata": {},
     "output_type": "execute_result"
    }
   ],
   "source": [
    "df['fuel-type'].value_counts()"
   ]
  },
  {
   "cell_type": "code",
   "execution_count": 162,
   "id": "b0cd4a63",
   "metadata": {},
   "outputs": [],
   "source": [
    "df['fuel-type'].replace({\"gas\":1, \"diesel\":0}, inplace=True)"
   ]
  },
  {
   "cell_type": "code",
   "execution_count": 163,
   "id": "4061aaf8",
   "metadata": {},
   "outputs": [],
   "source": [
    "fuel_type_dict = {\"gas\":1, \"diesel\":0}"
   ]
  },
  {
   "cell_type": "code",
   "execution_count": 164,
   "id": "5588c8ff",
   "metadata": {},
   "outputs": [
    {
     "data": {
      "text/plain": [
       "1    185\n",
       "0     20\n",
       "Name: fuel-type, dtype: int64"
      ]
     },
     "execution_count": 164,
     "metadata": {},
     "output_type": "execute_result"
    }
   ],
   "source": [
    "df['fuel-type'].value_counts()"
   ]
  },
  {
   "cell_type": "markdown",
   "id": "dc756e86",
   "metadata": {},
   "source": [
    "### 4. aspiration"
   ]
  },
  {
   "cell_type": "code",
   "execution_count": 165,
   "id": "1675fe65",
   "metadata": {},
   "outputs": [
    {
     "data": {
      "text/plain": [
       "std      168\n",
       "turbo     37\n",
       "Name: aspiration, dtype: int64"
      ]
     },
     "execution_count": 165,
     "metadata": {},
     "output_type": "execute_result"
    }
   ],
   "source": [
    "df['aspiration'].value_counts()"
   ]
  },
  {
   "cell_type": "code",
   "execution_count": 166,
   "id": "cb792ef3",
   "metadata": {},
   "outputs": [
    {
     "data": {
      "text/plain": [
       "{'std': 168, 'turbo': 37}"
      ]
     },
     "execution_count": 166,
     "metadata": {},
     "output_type": "execute_result"
    }
   ],
   "source": [
    "df['aspiration'].value_counts().to_dict()"
   ]
  },
  {
   "cell_type": "code",
   "execution_count": 167,
   "id": "b551cc05",
   "metadata": {},
   "outputs": [],
   "source": [
    "df['aspiration'].replace({'std': 0, 'turbo': 1}, inplace=True)"
   ]
  },
  {
   "cell_type": "code",
   "execution_count": 168,
   "id": "eef5d924",
   "metadata": {},
   "outputs": [
    {
     "data": {
      "text/plain": [
       "{0: 168, 1: 37}"
      ]
     },
     "execution_count": 168,
     "metadata": {},
     "output_type": "execute_result"
    }
   ],
   "source": [
    "df['aspiration'].value_counts().to_dict()"
   ]
  },
  {
   "cell_type": "code",
   "execution_count": 181,
   "id": "6012def8",
   "metadata": {},
   "outputs": [],
   "source": [
    "aspiration_dict = {'std': 0, 'turbo': 1}"
   ]
  },
  {
   "cell_type": "markdown",
   "id": "e7e214ec",
   "metadata": {},
   "source": [
    "### 5. num-of-doors"
   ]
  },
  {
   "cell_type": "code",
   "execution_count": 182,
   "id": "7146da25",
   "metadata": {},
   "outputs": [
    {
     "data": {
      "text/plain": [
       "array([2, 4], dtype=int64)"
      ]
     },
     "execution_count": 182,
     "metadata": {},
     "output_type": "execute_result"
    }
   ],
   "source": [
    "df['num-of-doors'].unique()"
   ]
  },
  {
   "cell_type": "code",
   "execution_count": 183,
   "id": "d1d6c7ca",
   "metadata": {},
   "outputs": [
    {
     "data": {
      "text/plain": [
       "0"
      ]
     },
     "execution_count": 183,
     "metadata": {},
     "output_type": "execute_result"
    }
   ],
   "source": [
    "df['num-of-doors'].isna().sum()"
   ]
  },
  {
   "cell_type": "code",
   "execution_count": 184,
   "id": "933ae437",
   "metadata": {},
   "outputs": [
    {
     "data": {
      "text/plain": [
       "4    116\n",
       "2     89\n",
       "Name: num-of-doors, dtype: int64"
      ]
     },
     "execution_count": 184,
     "metadata": {},
     "output_type": "execute_result"
    }
   ],
   "source": [
    "df['num-of-doors'].value_counts()"
   ]
  },
  {
   "cell_type": "code",
   "execution_count": 185,
   "id": "f8876202",
   "metadata": {},
   "outputs": [],
   "source": [
    "# Imputation of missing value with mode\n",
    "\n",
    "df['num-of-doors'].fillna(df['num-of-doors'].mode()[0], inplace=True)"
   ]
  },
  {
   "cell_type": "code",
   "execution_count": 186,
   "id": "64cdc51e",
   "metadata": {},
   "outputs": [
    {
     "data": {
      "text/plain": [
       "{4: 116, 2: 89}"
      ]
     },
     "execution_count": 186,
     "metadata": {},
     "output_type": "execute_result"
    }
   ],
   "source": [
    "df['num-of-doors'].value_counts().to_dict()"
   ]
  },
  {
   "cell_type": "code",
   "execution_count": 187,
   "id": "f7e8fb7d",
   "metadata": {},
   "outputs": [],
   "source": [
    "df['num-of-doors'].replace({'four': 4, 'two': 2}, inplace=True)"
   ]
  },
  {
   "cell_type": "code",
   "execution_count": 188,
   "id": "482d6f0c",
   "metadata": {},
   "outputs": [
    {
     "data": {
      "text/plain": [
       "{4: 116, 2: 89}"
      ]
     },
     "execution_count": 188,
     "metadata": {},
     "output_type": "execute_result"
    }
   ],
   "source": [
    "df['num-of-doors'].value_counts().to_dict()"
   ]
  },
  {
   "cell_type": "code",
   "execution_count": 189,
   "id": "6d902ccc",
   "metadata": {},
   "outputs": [],
   "source": [
    "num_of_doors_dict = {'four': 4, 'two': 2}"
   ]
  },
  {
   "cell_type": "markdown",
   "id": "058d7434",
   "metadata": {},
   "source": [
    "### 6. body-style"
   ]
  },
  {
   "cell_type": "code",
   "execution_count": 178,
   "id": "a866e865",
   "metadata": {},
   "outputs": [
    {
     "data": {
      "text/plain": [
       "array(['convertible', 'hatchback', 'sedan', 'wagon', 'hardtop'],\n",
       "      dtype=object)"
      ]
     },
     "execution_count": 178,
     "metadata": {},
     "output_type": "execute_result"
    }
   ],
   "source": [
    "df['body-style'].unique()"
   ]
  },
  {
   "cell_type": "code",
   "execution_count": 179,
   "id": "a5cbfc53",
   "metadata": {},
   "outputs": [
    {
     "data": {
      "text/plain": [
       "sedan          96\n",
       "hatchback      70\n",
       "wagon          25\n",
       "hardtop         8\n",
       "convertible     6\n",
       "Name: body-style, dtype: int64"
      ]
     },
     "execution_count": 179,
     "metadata": {},
     "output_type": "execute_result"
    }
   ],
   "source": [
    "df['body-style'].value_counts()"
   ]
  },
  {
   "cell_type": "code",
   "execution_count": 180,
   "id": "846d41db",
   "metadata": {},
   "outputs": [],
   "source": [
    "df = pd.get_dummies(df, columns=['body-style'])"
   ]
  },
  {
   "cell_type": "markdown",
   "id": "6b4e190d",
   "metadata": {},
   "source": [
    "### 7. drive-wheels"
   ]
  },
  {
   "cell_type": "code",
   "execution_count": 212,
   "id": "a6c0ac5e",
   "metadata": {},
   "outputs": [
    {
     "data": {
      "text/plain": [
       "array(['rwd', 'fwd', '4wd'], dtype=object)"
      ]
     },
     "execution_count": 212,
     "metadata": {},
     "output_type": "execute_result"
    }
   ],
   "source": [
    "df['drive-wheels'].unique()"
   ]
  },
  {
   "cell_type": "code",
   "execution_count": 213,
   "id": "afe0eae6",
   "metadata": {},
   "outputs": [
    {
     "data": {
      "text/plain": [
       "fwd    120\n",
       "rwd     76\n",
       "4wd      9\n",
       "Name: drive-wheels, dtype: int64"
      ]
     },
     "execution_count": 213,
     "metadata": {},
     "output_type": "execute_result"
    }
   ],
   "source": [
    "df['drive-wheels'].value_counts()"
   ]
  },
  {
   "cell_type": "code",
   "execution_count": 214,
   "id": "027b97cd",
   "metadata": {},
   "outputs": [],
   "source": [
    "df['drive-wheels'].replace({'fwd': 0, 'rwd': 1, '4wd': 2}, inplace = True)"
   ]
  },
  {
   "cell_type": "code",
   "execution_count": 215,
   "id": "fde74a72",
   "metadata": {},
   "outputs": [],
   "source": [
    "drive_wheels_dict = {'fwd': 0, 'rwd': 1, '4wd': 2}"
   ]
  },
  {
   "cell_type": "code",
   "execution_count": 216,
   "id": "7760ee83",
   "metadata": {},
   "outputs": [
    {
     "data": {
      "text/plain": [
       "0    120\n",
       "1     76\n",
       "2      9\n",
       "Name: drive-wheels, dtype: int64"
      ]
     },
     "execution_count": 216,
     "metadata": {},
     "output_type": "execute_result"
    }
   ],
   "source": [
    "df['drive-wheels'].value_counts()"
   ]
  },
  {
   "cell_type": "markdown",
   "id": "f9258b9a",
   "metadata": {},
   "source": [
    "## 8. engine-location"
   ]
  },
  {
   "cell_type": "code",
   "execution_count": 208,
   "id": "ac6dd20b",
   "metadata": {},
   "outputs": [
    {
     "data": {
      "text/plain": [
       "array(['front', 'rear'], dtype=object)"
      ]
     },
     "execution_count": 208,
     "metadata": {},
     "output_type": "execute_result"
    }
   ],
   "source": [
    "df['engine-location'].unique()"
   ]
  },
  {
   "cell_type": "code",
   "execution_count": 209,
   "id": "1376df7f",
   "metadata": {},
   "outputs": [],
   "source": [
    "df['engine-location'].replace({'front': 0, 'rear': 1}, inplace=True)"
   ]
  },
  {
   "cell_type": "code",
   "execution_count": 301,
   "id": "8dafe178",
   "metadata": {},
   "outputs": [],
   "source": [
    "engine_location_dict  = {'front': 0, 'rear': 1}"
   ]
  },
  {
   "cell_type": "code",
   "execution_count": 211,
   "id": "8b20ac30",
   "metadata": {},
   "outputs": [
    {
     "data": {
      "text/plain": [
       "0    202\n",
       "1      3\n",
       "Name: engine-location, dtype: int64"
      ]
     },
     "execution_count": 211,
     "metadata": {},
     "output_type": "execute_result"
    }
   ],
   "source": [
    "df['engine-location'].value_counts()"
   ]
  },
  {
   "cell_type": "markdown",
   "id": "10fb7a77",
   "metadata": {},
   "source": [
    "### 9. engine-type"
   ]
  },
  {
   "cell_type": "code",
   "execution_count": 227,
   "id": "2caae241",
   "metadata": {},
   "outputs": [
    {
     "data": {
      "text/plain": [
       "array(['dohc', 'ohcv', 'ohc', 'l', 'rotor', 'ohcf', 'dohcv'], dtype=object)"
      ]
     },
     "execution_count": 227,
     "metadata": {},
     "output_type": "execute_result"
    }
   ],
   "source": [
    "df['engine-type'].unique()"
   ]
  },
  {
   "cell_type": "code",
   "execution_count": 228,
   "id": "be4f3051",
   "metadata": {},
   "outputs": [
    {
     "data": {
      "text/plain": [
       "ohc      148\n",
       "ohcf      15\n",
       "ohcv      13\n",
       "dohc      12\n",
       "l         12\n",
       "rotor      4\n",
       "dohcv      1\n",
       "Name: engine-type, dtype: int64"
      ]
     },
     "execution_count": 228,
     "metadata": {},
     "output_type": "execute_result"
    }
   ],
   "source": [
    "df['engine-type'].value_counts()"
   ]
  },
  {
   "cell_type": "code",
   "execution_count": 229,
   "id": "6c9ba59a",
   "metadata": {},
   "outputs": [
    {
     "data": {
      "text/html": [
       "<div>\n",
       "<style scoped>\n",
       "    .dataframe tbody tr th:only-of-type {\n",
       "        vertical-align: middle;\n",
       "    }\n",
       "\n",
       "    .dataframe tbody tr th {\n",
       "        vertical-align: top;\n",
       "    }\n",
       "\n",
       "    .dataframe thead th {\n",
       "        text-align: right;\n",
       "    }\n",
       "</style>\n",
       "<table border=\"1\" class=\"dataframe\">\n",
       "  <thead>\n",
       "    <tr style=\"text-align: right;\">\n",
       "      <th></th>\n",
       "      <th>symboling</th>\n",
       "      <th>normalized-losses</th>\n",
       "      <th>fuel-type</th>\n",
       "      <th>aspiration</th>\n",
       "      <th>num-of-doors</th>\n",
       "      <th>drive-wheels</th>\n",
       "      <th>engine-location</th>\n",
       "      <th>wheel-base</th>\n",
       "      <th>length</th>\n",
       "      <th>width</th>\n",
       "      <th>...</th>\n",
       "      <th>fuel-system_mpfi</th>\n",
       "      <th>fuel-system_spdi</th>\n",
       "      <th>fuel-system_spfi</th>\n",
       "      <th>engine-type_dohc</th>\n",
       "      <th>engine-type_dohcv</th>\n",
       "      <th>engine-type_l</th>\n",
       "      <th>engine-type_ohc</th>\n",
       "      <th>engine-type_ohcf</th>\n",
       "      <th>engine-type_ohcv</th>\n",
       "      <th>engine-type_rotor</th>\n",
       "    </tr>\n",
       "  </thead>\n",
       "  <tbody>\n",
       "    <tr>\n",
       "      <th>0</th>\n",
       "      <td>3</td>\n",
       "      <td>115.0</td>\n",
       "      <td>1</td>\n",
       "      <td>0</td>\n",
       "      <td>2</td>\n",
       "      <td>1</td>\n",
       "      <td>0</td>\n",
       "      <td>88.6</td>\n",
       "      <td>168.8</td>\n",
       "      <td>64.1</td>\n",
       "      <td>...</td>\n",
       "      <td>1</td>\n",
       "      <td>0</td>\n",
       "      <td>0</td>\n",
       "      <td>1</td>\n",
       "      <td>0</td>\n",
       "      <td>0</td>\n",
       "      <td>0</td>\n",
       "      <td>0</td>\n",
       "      <td>0</td>\n",
       "      <td>0</td>\n",
       "    </tr>\n",
       "    <tr>\n",
       "      <th>1</th>\n",
       "      <td>3</td>\n",
       "      <td>115.0</td>\n",
       "      <td>1</td>\n",
       "      <td>0</td>\n",
       "      <td>2</td>\n",
       "      <td>1</td>\n",
       "      <td>0</td>\n",
       "      <td>88.6</td>\n",
       "      <td>168.8</td>\n",
       "      <td>64.1</td>\n",
       "      <td>...</td>\n",
       "      <td>1</td>\n",
       "      <td>0</td>\n",
       "      <td>0</td>\n",
       "      <td>1</td>\n",
       "      <td>0</td>\n",
       "      <td>0</td>\n",
       "      <td>0</td>\n",
       "      <td>0</td>\n",
       "      <td>0</td>\n",
       "      <td>0</td>\n",
       "    </tr>\n",
       "    <tr>\n",
       "      <th>2</th>\n",
       "      <td>1</td>\n",
       "      <td>115.0</td>\n",
       "      <td>1</td>\n",
       "      <td>0</td>\n",
       "      <td>2</td>\n",
       "      <td>1</td>\n",
       "      <td>0</td>\n",
       "      <td>94.5</td>\n",
       "      <td>171.2</td>\n",
       "      <td>65.5</td>\n",
       "      <td>...</td>\n",
       "      <td>1</td>\n",
       "      <td>0</td>\n",
       "      <td>0</td>\n",
       "      <td>0</td>\n",
       "      <td>0</td>\n",
       "      <td>0</td>\n",
       "      <td>0</td>\n",
       "      <td>0</td>\n",
       "      <td>1</td>\n",
       "      <td>0</td>\n",
       "    </tr>\n",
       "    <tr>\n",
       "      <th>3</th>\n",
       "      <td>2</td>\n",
       "      <td>164.0</td>\n",
       "      <td>1</td>\n",
       "      <td>0</td>\n",
       "      <td>4</td>\n",
       "      <td>0</td>\n",
       "      <td>0</td>\n",
       "      <td>99.8</td>\n",
       "      <td>176.6</td>\n",
       "      <td>66.2</td>\n",
       "      <td>...</td>\n",
       "      <td>1</td>\n",
       "      <td>0</td>\n",
       "      <td>0</td>\n",
       "      <td>0</td>\n",
       "      <td>0</td>\n",
       "      <td>0</td>\n",
       "      <td>1</td>\n",
       "      <td>0</td>\n",
       "      <td>0</td>\n",
       "      <td>0</td>\n",
       "    </tr>\n",
       "    <tr>\n",
       "      <th>4</th>\n",
       "      <td>2</td>\n",
       "      <td>164.0</td>\n",
       "      <td>1</td>\n",
       "      <td>0</td>\n",
       "      <td>4</td>\n",
       "      <td>2</td>\n",
       "      <td>0</td>\n",
       "      <td>99.4</td>\n",
       "      <td>176.6</td>\n",
       "      <td>66.4</td>\n",
       "      <td>...</td>\n",
       "      <td>1</td>\n",
       "      <td>0</td>\n",
       "      <td>0</td>\n",
       "      <td>0</td>\n",
       "      <td>0</td>\n",
       "      <td>0</td>\n",
       "      <td>1</td>\n",
       "      <td>0</td>\n",
       "      <td>0</td>\n",
       "      <td>0</td>\n",
       "    </tr>\n",
       "    <tr>\n",
       "      <th>...</th>\n",
       "      <td>...</td>\n",
       "      <td>...</td>\n",
       "      <td>...</td>\n",
       "      <td>...</td>\n",
       "      <td>...</td>\n",
       "      <td>...</td>\n",
       "      <td>...</td>\n",
       "      <td>...</td>\n",
       "      <td>...</td>\n",
       "      <td>...</td>\n",
       "      <td>...</td>\n",
       "      <td>...</td>\n",
       "      <td>...</td>\n",
       "      <td>...</td>\n",
       "      <td>...</td>\n",
       "      <td>...</td>\n",
       "      <td>...</td>\n",
       "      <td>...</td>\n",
       "      <td>...</td>\n",
       "      <td>...</td>\n",
       "      <td>...</td>\n",
       "    </tr>\n",
       "    <tr>\n",
       "      <th>200</th>\n",
       "      <td>-1</td>\n",
       "      <td>95.0</td>\n",
       "      <td>1</td>\n",
       "      <td>0</td>\n",
       "      <td>4</td>\n",
       "      <td>1</td>\n",
       "      <td>0</td>\n",
       "      <td>109.1</td>\n",
       "      <td>188.8</td>\n",
       "      <td>68.9</td>\n",
       "      <td>...</td>\n",
       "      <td>1</td>\n",
       "      <td>0</td>\n",
       "      <td>0</td>\n",
       "      <td>0</td>\n",
       "      <td>0</td>\n",
       "      <td>0</td>\n",
       "      <td>1</td>\n",
       "      <td>0</td>\n",
       "      <td>0</td>\n",
       "      <td>0</td>\n",
       "    </tr>\n",
       "    <tr>\n",
       "      <th>201</th>\n",
       "      <td>-1</td>\n",
       "      <td>95.0</td>\n",
       "      <td>1</td>\n",
       "      <td>1</td>\n",
       "      <td>4</td>\n",
       "      <td>1</td>\n",
       "      <td>0</td>\n",
       "      <td>109.1</td>\n",
       "      <td>188.8</td>\n",
       "      <td>68.8</td>\n",
       "      <td>...</td>\n",
       "      <td>1</td>\n",
       "      <td>0</td>\n",
       "      <td>0</td>\n",
       "      <td>0</td>\n",
       "      <td>0</td>\n",
       "      <td>0</td>\n",
       "      <td>1</td>\n",
       "      <td>0</td>\n",
       "      <td>0</td>\n",
       "      <td>0</td>\n",
       "    </tr>\n",
       "    <tr>\n",
       "      <th>202</th>\n",
       "      <td>-1</td>\n",
       "      <td>95.0</td>\n",
       "      <td>1</td>\n",
       "      <td>0</td>\n",
       "      <td>4</td>\n",
       "      <td>1</td>\n",
       "      <td>0</td>\n",
       "      <td>109.1</td>\n",
       "      <td>188.8</td>\n",
       "      <td>68.9</td>\n",
       "      <td>...</td>\n",
       "      <td>1</td>\n",
       "      <td>0</td>\n",
       "      <td>0</td>\n",
       "      <td>0</td>\n",
       "      <td>0</td>\n",
       "      <td>0</td>\n",
       "      <td>0</td>\n",
       "      <td>0</td>\n",
       "      <td>1</td>\n",
       "      <td>0</td>\n",
       "    </tr>\n",
       "    <tr>\n",
       "      <th>203</th>\n",
       "      <td>-1</td>\n",
       "      <td>95.0</td>\n",
       "      <td>0</td>\n",
       "      <td>1</td>\n",
       "      <td>4</td>\n",
       "      <td>1</td>\n",
       "      <td>0</td>\n",
       "      <td>109.1</td>\n",
       "      <td>188.8</td>\n",
       "      <td>68.9</td>\n",
       "      <td>...</td>\n",
       "      <td>0</td>\n",
       "      <td>0</td>\n",
       "      <td>0</td>\n",
       "      <td>0</td>\n",
       "      <td>0</td>\n",
       "      <td>0</td>\n",
       "      <td>1</td>\n",
       "      <td>0</td>\n",
       "      <td>0</td>\n",
       "      <td>0</td>\n",
       "    </tr>\n",
       "    <tr>\n",
       "      <th>204</th>\n",
       "      <td>-1</td>\n",
       "      <td>95.0</td>\n",
       "      <td>1</td>\n",
       "      <td>1</td>\n",
       "      <td>4</td>\n",
       "      <td>1</td>\n",
       "      <td>0</td>\n",
       "      <td>109.1</td>\n",
       "      <td>188.8</td>\n",
       "      <td>68.9</td>\n",
       "      <td>...</td>\n",
       "      <td>1</td>\n",
       "      <td>0</td>\n",
       "      <td>0</td>\n",
       "      <td>0</td>\n",
       "      <td>0</td>\n",
       "      <td>0</td>\n",
       "      <td>1</td>\n",
       "      <td>0</td>\n",
       "      <td>0</td>\n",
       "      <td>0</td>\n",
       "    </tr>\n",
       "  </tbody>\n",
       "</table>\n",
       "<p>205 rows × 64 columns</p>\n",
       "</div>"
      ],
      "text/plain": [
       "     symboling  normalized-losses  fuel-type  aspiration  num-of-doors  \\\n",
       "0            3              115.0          1           0             2   \n",
       "1            3              115.0          1           0             2   \n",
       "2            1              115.0          1           0             2   \n",
       "3            2              164.0          1           0             4   \n",
       "4            2              164.0          1           0             4   \n",
       "..         ...                ...        ...         ...           ...   \n",
       "200         -1               95.0          1           0             4   \n",
       "201         -1               95.0          1           1             4   \n",
       "202         -1               95.0          1           0             4   \n",
       "203         -1               95.0          0           1             4   \n",
       "204         -1               95.0          1           1             4   \n",
       "\n",
       "     drive-wheels  engine-location  wheel-base  length  width  ...  \\\n",
       "0               1                0        88.6   168.8   64.1  ...   \n",
       "1               1                0        88.6   168.8   64.1  ...   \n",
       "2               1                0        94.5   171.2   65.5  ...   \n",
       "3               0                0        99.8   176.6   66.2  ...   \n",
       "4               2                0        99.4   176.6   66.4  ...   \n",
       "..            ...              ...         ...     ...    ...  ...   \n",
       "200             1                0       109.1   188.8   68.9  ...   \n",
       "201             1                0       109.1   188.8   68.8  ...   \n",
       "202             1                0       109.1   188.8   68.9  ...   \n",
       "203             1                0       109.1   188.8   68.9  ...   \n",
       "204             1                0       109.1   188.8   68.9  ...   \n",
       "\n",
       "     fuel-system_mpfi  fuel-system_spdi fuel-system_spfi  engine-type_dohc  \\\n",
       "0                   1                 0                0                 1   \n",
       "1                   1                 0                0                 1   \n",
       "2                   1                 0                0                 0   \n",
       "3                   1                 0                0                 0   \n",
       "4                   1                 0                0                 0   \n",
       "..                ...               ...              ...               ...   \n",
       "200                 1                 0                0                 0   \n",
       "201                 1                 0                0                 0   \n",
       "202                 1                 0                0                 0   \n",
       "203                 0                 0                0                 0   \n",
       "204                 1                 0                0                 0   \n",
       "\n",
       "     engine-type_dohcv  engine-type_l  engine-type_ohc  engine-type_ohcf  \\\n",
       "0                    0              0                0                 0   \n",
       "1                    0              0                0                 0   \n",
       "2                    0              0                0                 0   \n",
       "3                    0              0                1                 0   \n",
       "4                    0              0                1                 0   \n",
       "..                 ...            ...              ...               ...   \n",
       "200                  0              0                1                 0   \n",
       "201                  0              0                1                 0   \n",
       "202                  0              0                0                 0   \n",
       "203                  0              0                1                 0   \n",
       "204                  0              0                1                 0   \n",
       "\n",
       "     engine-type_ohcv  engine-type_rotor  \n",
       "0                   0                  0  \n",
       "1                   0                  0  \n",
       "2                   1                  0  \n",
       "3                   0                  0  \n",
       "4                   0                  0  \n",
       "..                ...                ...  \n",
       "200                 0                  0  \n",
       "201                 0                  0  \n",
       "202                 1                  0  \n",
       "203                 0                  0  \n",
       "204                 0                  0  \n",
       "\n",
       "[205 rows x 64 columns]"
      ]
     },
     "execution_count": 229,
     "metadata": {},
     "output_type": "execute_result"
    }
   ],
   "source": [
    "df = pd.get_dummies(df, columns=['engine-type'])\n",
    "df"
   ]
  },
  {
   "cell_type": "markdown",
   "id": "37d141f7",
   "metadata": {},
   "source": [
    "#### 10. num-of-cylinders"
   ]
  },
  {
   "cell_type": "code",
   "execution_count": 230,
   "id": "a94f7cee",
   "metadata": {},
   "outputs": [
    {
     "data": {
      "text/plain": [
       "array(['four', 'six', 'five', 'three', 'twelve', 'two', 'eight'],\n",
       "      dtype=object)"
      ]
     },
     "execution_count": 230,
     "metadata": {},
     "output_type": "execute_result"
    }
   ],
   "source": [
    "df['num-of-cylinders'].unique()"
   ]
  },
  {
   "cell_type": "code",
   "execution_count": 231,
   "id": "715d4da2",
   "metadata": {},
   "outputs": [
    {
     "data": {
      "text/plain": [
       "{'four': 159,\n",
       " 'six': 24,\n",
       " 'five': 11,\n",
       " 'eight': 5,\n",
       " 'two': 4,\n",
       " 'three': 1,\n",
       " 'twelve': 1}"
      ]
     },
     "execution_count": 231,
     "metadata": {},
     "output_type": "execute_result"
    }
   ],
   "source": [
    "df['num-of-cylinders'].value_counts().to_dict()"
   ]
  },
  {
   "cell_type": "code",
   "execution_count": 232,
   "id": "3ef8b6ff",
   "metadata": {},
   "outputs": [],
   "source": [
    "df['num-of-cylinders'].replace({'four': 4,\n",
    " 'six': 6,\n",
    " 'five': 5,\n",
    " 'eight': 8,\n",
    " 'two': 2,\n",
    " 'three': 3,\n",
    " 'twelve': 12},inplace=True)"
   ]
  },
  {
   "cell_type": "code",
   "execution_count": 302,
   "id": "5a13876f",
   "metadata": {},
   "outputs": [],
   "source": [
    "num_of_cylinders_dict = {'four': 4,\n",
    " 'six': 6,\n",
    " 'five': 5,\n",
    " 'eight': 8,\n",
    " 'two': 2,\n",
    " 'three': 3,\n",
    " 'twelve': 12}"
   ]
  },
  {
   "cell_type": "code",
   "execution_count": 234,
   "id": "5151e5d0",
   "metadata": {},
   "outputs": [
    {
     "data": {
      "text/plain": [
       "4     159\n",
       "6      24\n",
       "5      11\n",
       "8       5\n",
       "2       4\n",
       "3       1\n",
       "12      1\n",
       "Name: num-of-cylinders, dtype: int64"
      ]
     },
     "execution_count": 234,
     "metadata": {},
     "output_type": "execute_result"
    }
   ],
   "source": [
    "df['num-of-cylinders'].value_counts()"
   ]
  },
  {
   "cell_type": "markdown",
   "id": "01eafe4f",
   "metadata": {},
   "source": [
    "### 11. fuel-system "
   ]
  },
  {
   "cell_type": "code",
   "execution_count": 223,
   "id": "7b8ea7e0",
   "metadata": {},
   "outputs": [
    {
     "data": {
      "text/plain": [
       "array(['mpfi', '2bbl', 'mfi', '1bbl', 'spfi', '4bbl', 'idi', 'spdi'],\n",
       "      dtype=object)"
      ]
     },
     "execution_count": 223,
     "metadata": {},
     "output_type": "execute_result"
    }
   ],
   "source": [
    "df['fuel-system'].unique()"
   ]
  },
  {
   "cell_type": "code",
   "execution_count": 224,
   "id": "027a77be",
   "metadata": {},
   "outputs": [
    {
     "data": {
      "text/plain": [
       "mpfi    94\n",
       "2bbl    66\n",
       "idi     20\n",
       "1bbl    11\n",
       "spdi     9\n",
       "4bbl     3\n",
       "mfi      1\n",
       "spfi     1\n",
       "Name: fuel-system, dtype: int64"
      ]
     },
     "execution_count": 224,
     "metadata": {},
     "output_type": "execute_result"
    }
   ],
   "source": [
    "df['fuel-system'].value_counts()"
   ]
  },
  {
   "cell_type": "code",
   "execution_count": 225,
   "id": "d0138a88",
   "metadata": {},
   "outputs": [
    {
     "data": {
      "text/html": [
       "<div>\n",
       "<style scoped>\n",
       "    .dataframe tbody tr th:only-of-type {\n",
       "        vertical-align: middle;\n",
       "    }\n",
       "\n",
       "    .dataframe tbody tr th {\n",
       "        vertical-align: top;\n",
       "    }\n",
       "\n",
       "    .dataframe thead th {\n",
       "        text-align: right;\n",
       "    }\n",
       "</style>\n",
       "<table border=\"1\" class=\"dataframe\">\n",
       "  <thead>\n",
       "    <tr style=\"text-align: right;\">\n",
       "      <th></th>\n",
       "      <th>symboling</th>\n",
       "      <th>normalized-losses</th>\n",
       "      <th>fuel-type</th>\n",
       "      <th>aspiration</th>\n",
       "      <th>num-of-doors</th>\n",
       "      <th>drive-wheels</th>\n",
       "      <th>engine-location</th>\n",
       "      <th>wheel-base</th>\n",
       "      <th>length</th>\n",
       "      <th>width</th>\n",
       "      <th>...</th>\n",
       "      <th>body-style_sedan</th>\n",
       "      <th>body-style_wagon</th>\n",
       "      <th>fuel-system_1bbl</th>\n",
       "      <th>fuel-system_2bbl</th>\n",
       "      <th>fuel-system_4bbl</th>\n",
       "      <th>fuel-system_idi</th>\n",
       "      <th>fuel-system_mfi</th>\n",
       "      <th>fuel-system_mpfi</th>\n",
       "      <th>fuel-system_spdi</th>\n",
       "      <th>fuel-system_spfi</th>\n",
       "    </tr>\n",
       "  </thead>\n",
       "  <tbody>\n",
       "    <tr>\n",
       "      <th>0</th>\n",
       "      <td>3</td>\n",
       "      <td>115.0</td>\n",
       "      <td>1</td>\n",
       "      <td>0</td>\n",
       "      <td>2</td>\n",
       "      <td>1</td>\n",
       "      <td>0</td>\n",
       "      <td>88.6</td>\n",
       "      <td>168.8</td>\n",
       "      <td>64.1</td>\n",
       "      <td>...</td>\n",
       "      <td>0</td>\n",
       "      <td>0</td>\n",
       "      <td>0</td>\n",
       "      <td>0</td>\n",
       "      <td>0</td>\n",
       "      <td>0</td>\n",
       "      <td>0</td>\n",
       "      <td>1</td>\n",
       "      <td>0</td>\n",
       "      <td>0</td>\n",
       "    </tr>\n",
       "    <tr>\n",
       "      <th>1</th>\n",
       "      <td>3</td>\n",
       "      <td>115.0</td>\n",
       "      <td>1</td>\n",
       "      <td>0</td>\n",
       "      <td>2</td>\n",
       "      <td>1</td>\n",
       "      <td>0</td>\n",
       "      <td>88.6</td>\n",
       "      <td>168.8</td>\n",
       "      <td>64.1</td>\n",
       "      <td>...</td>\n",
       "      <td>0</td>\n",
       "      <td>0</td>\n",
       "      <td>0</td>\n",
       "      <td>0</td>\n",
       "      <td>0</td>\n",
       "      <td>0</td>\n",
       "      <td>0</td>\n",
       "      <td>1</td>\n",
       "      <td>0</td>\n",
       "      <td>0</td>\n",
       "    </tr>\n",
       "    <tr>\n",
       "      <th>2</th>\n",
       "      <td>1</td>\n",
       "      <td>115.0</td>\n",
       "      <td>1</td>\n",
       "      <td>0</td>\n",
       "      <td>2</td>\n",
       "      <td>1</td>\n",
       "      <td>0</td>\n",
       "      <td>94.5</td>\n",
       "      <td>171.2</td>\n",
       "      <td>65.5</td>\n",
       "      <td>...</td>\n",
       "      <td>0</td>\n",
       "      <td>0</td>\n",
       "      <td>0</td>\n",
       "      <td>0</td>\n",
       "      <td>0</td>\n",
       "      <td>0</td>\n",
       "      <td>0</td>\n",
       "      <td>1</td>\n",
       "      <td>0</td>\n",
       "      <td>0</td>\n",
       "    </tr>\n",
       "    <tr>\n",
       "      <th>3</th>\n",
       "      <td>2</td>\n",
       "      <td>164.0</td>\n",
       "      <td>1</td>\n",
       "      <td>0</td>\n",
       "      <td>4</td>\n",
       "      <td>0</td>\n",
       "      <td>0</td>\n",
       "      <td>99.8</td>\n",
       "      <td>176.6</td>\n",
       "      <td>66.2</td>\n",
       "      <td>...</td>\n",
       "      <td>1</td>\n",
       "      <td>0</td>\n",
       "      <td>0</td>\n",
       "      <td>0</td>\n",
       "      <td>0</td>\n",
       "      <td>0</td>\n",
       "      <td>0</td>\n",
       "      <td>1</td>\n",
       "      <td>0</td>\n",
       "      <td>0</td>\n",
       "    </tr>\n",
       "    <tr>\n",
       "      <th>4</th>\n",
       "      <td>2</td>\n",
       "      <td>164.0</td>\n",
       "      <td>1</td>\n",
       "      <td>0</td>\n",
       "      <td>4</td>\n",
       "      <td>2</td>\n",
       "      <td>0</td>\n",
       "      <td>99.4</td>\n",
       "      <td>176.6</td>\n",
       "      <td>66.4</td>\n",
       "      <td>...</td>\n",
       "      <td>1</td>\n",
       "      <td>0</td>\n",
       "      <td>0</td>\n",
       "      <td>0</td>\n",
       "      <td>0</td>\n",
       "      <td>0</td>\n",
       "      <td>0</td>\n",
       "      <td>1</td>\n",
       "      <td>0</td>\n",
       "      <td>0</td>\n",
       "    </tr>\n",
       "    <tr>\n",
       "      <th>...</th>\n",
       "      <td>...</td>\n",
       "      <td>...</td>\n",
       "      <td>...</td>\n",
       "      <td>...</td>\n",
       "      <td>...</td>\n",
       "      <td>...</td>\n",
       "      <td>...</td>\n",
       "      <td>...</td>\n",
       "      <td>...</td>\n",
       "      <td>...</td>\n",
       "      <td>...</td>\n",
       "      <td>...</td>\n",
       "      <td>...</td>\n",
       "      <td>...</td>\n",
       "      <td>...</td>\n",
       "      <td>...</td>\n",
       "      <td>...</td>\n",
       "      <td>...</td>\n",
       "      <td>...</td>\n",
       "      <td>...</td>\n",
       "      <td>...</td>\n",
       "    </tr>\n",
       "    <tr>\n",
       "      <th>200</th>\n",
       "      <td>-1</td>\n",
       "      <td>95.0</td>\n",
       "      <td>1</td>\n",
       "      <td>0</td>\n",
       "      <td>4</td>\n",
       "      <td>1</td>\n",
       "      <td>0</td>\n",
       "      <td>109.1</td>\n",
       "      <td>188.8</td>\n",
       "      <td>68.9</td>\n",
       "      <td>...</td>\n",
       "      <td>1</td>\n",
       "      <td>0</td>\n",
       "      <td>0</td>\n",
       "      <td>0</td>\n",
       "      <td>0</td>\n",
       "      <td>0</td>\n",
       "      <td>0</td>\n",
       "      <td>1</td>\n",
       "      <td>0</td>\n",
       "      <td>0</td>\n",
       "    </tr>\n",
       "    <tr>\n",
       "      <th>201</th>\n",
       "      <td>-1</td>\n",
       "      <td>95.0</td>\n",
       "      <td>1</td>\n",
       "      <td>1</td>\n",
       "      <td>4</td>\n",
       "      <td>1</td>\n",
       "      <td>0</td>\n",
       "      <td>109.1</td>\n",
       "      <td>188.8</td>\n",
       "      <td>68.8</td>\n",
       "      <td>...</td>\n",
       "      <td>1</td>\n",
       "      <td>0</td>\n",
       "      <td>0</td>\n",
       "      <td>0</td>\n",
       "      <td>0</td>\n",
       "      <td>0</td>\n",
       "      <td>0</td>\n",
       "      <td>1</td>\n",
       "      <td>0</td>\n",
       "      <td>0</td>\n",
       "    </tr>\n",
       "    <tr>\n",
       "      <th>202</th>\n",
       "      <td>-1</td>\n",
       "      <td>95.0</td>\n",
       "      <td>1</td>\n",
       "      <td>0</td>\n",
       "      <td>4</td>\n",
       "      <td>1</td>\n",
       "      <td>0</td>\n",
       "      <td>109.1</td>\n",
       "      <td>188.8</td>\n",
       "      <td>68.9</td>\n",
       "      <td>...</td>\n",
       "      <td>1</td>\n",
       "      <td>0</td>\n",
       "      <td>0</td>\n",
       "      <td>0</td>\n",
       "      <td>0</td>\n",
       "      <td>0</td>\n",
       "      <td>0</td>\n",
       "      <td>1</td>\n",
       "      <td>0</td>\n",
       "      <td>0</td>\n",
       "    </tr>\n",
       "    <tr>\n",
       "      <th>203</th>\n",
       "      <td>-1</td>\n",
       "      <td>95.0</td>\n",
       "      <td>0</td>\n",
       "      <td>1</td>\n",
       "      <td>4</td>\n",
       "      <td>1</td>\n",
       "      <td>0</td>\n",
       "      <td>109.1</td>\n",
       "      <td>188.8</td>\n",
       "      <td>68.9</td>\n",
       "      <td>...</td>\n",
       "      <td>1</td>\n",
       "      <td>0</td>\n",
       "      <td>0</td>\n",
       "      <td>0</td>\n",
       "      <td>0</td>\n",
       "      <td>1</td>\n",
       "      <td>0</td>\n",
       "      <td>0</td>\n",
       "      <td>0</td>\n",
       "      <td>0</td>\n",
       "    </tr>\n",
       "    <tr>\n",
       "      <th>204</th>\n",
       "      <td>-1</td>\n",
       "      <td>95.0</td>\n",
       "      <td>1</td>\n",
       "      <td>1</td>\n",
       "      <td>4</td>\n",
       "      <td>1</td>\n",
       "      <td>0</td>\n",
       "      <td>109.1</td>\n",
       "      <td>188.8</td>\n",
       "      <td>68.9</td>\n",
       "      <td>...</td>\n",
       "      <td>1</td>\n",
       "      <td>0</td>\n",
       "      <td>0</td>\n",
       "      <td>0</td>\n",
       "      <td>0</td>\n",
       "      <td>0</td>\n",
       "      <td>0</td>\n",
       "      <td>1</td>\n",
       "      <td>0</td>\n",
       "      <td>0</td>\n",
       "    </tr>\n",
       "  </tbody>\n",
       "</table>\n",
       "<p>205 rows × 58 columns</p>\n",
       "</div>"
      ],
      "text/plain": [
       "     symboling  normalized-losses  fuel-type  aspiration  num-of-doors  \\\n",
       "0            3              115.0          1           0             2   \n",
       "1            3              115.0          1           0             2   \n",
       "2            1              115.0          1           0             2   \n",
       "3            2              164.0          1           0             4   \n",
       "4            2              164.0          1           0             4   \n",
       "..         ...                ...        ...         ...           ...   \n",
       "200         -1               95.0          1           0             4   \n",
       "201         -1               95.0          1           1             4   \n",
       "202         -1               95.0          1           0             4   \n",
       "203         -1               95.0          0           1             4   \n",
       "204         -1               95.0          1           1             4   \n",
       "\n",
       "     drive-wheels  engine-location  wheel-base  length  width  ...  \\\n",
       "0               1                0        88.6   168.8   64.1  ...   \n",
       "1               1                0        88.6   168.8   64.1  ...   \n",
       "2               1                0        94.5   171.2   65.5  ...   \n",
       "3               0                0        99.8   176.6   66.2  ...   \n",
       "4               2                0        99.4   176.6   66.4  ...   \n",
       "..            ...              ...         ...     ...    ...  ...   \n",
       "200             1                0       109.1   188.8   68.9  ...   \n",
       "201             1                0       109.1   188.8   68.8  ...   \n",
       "202             1                0       109.1   188.8   68.9  ...   \n",
       "203             1                0       109.1   188.8   68.9  ...   \n",
       "204             1                0       109.1   188.8   68.9  ...   \n",
       "\n",
       "     body-style_sedan  body-style_wagon fuel-system_1bbl fuel-system_2bbl  \\\n",
       "0                   0                 0                0                0   \n",
       "1                   0                 0                0                0   \n",
       "2                   0                 0                0                0   \n",
       "3                   1                 0                0                0   \n",
       "4                   1                 0                0                0   \n",
       "..                ...               ...              ...              ...   \n",
       "200                 1                 0                0                0   \n",
       "201                 1                 0                0                0   \n",
       "202                 1                 0                0                0   \n",
       "203                 1                 0                0                0   \n",
       "204                 1                 0                0                0   \n",
       "\n",
       "     fuel-system_4bbl  fuel-system_idi  fuel-system_mfi  fuel-system_mpfi  \\\n",
       "0                   0                0                0                 1   \n",
       "1                   0                0                0                 1   \n",
       "2                   0                0                0                 1   \n",
       "3                   0                0                0                 1   \n",
       "4                   0                0                0                 1   \n",
       "..                ...              ...              ...               ...   \n",
       "200                 0                0                0                 1   \n",
       "201                 0                0                0                 1   \n",
       "202                 0                0                0                 1   \n",
       "203                 0                1                0                 0   \n",
       "204                 0                0                0                 1   \n",
       "\n",
       "     fuel-system_spdi  fuel-system_spfi  \n",
       "0                   0                 0  \n",
       "1                   0                 0  \n",
       "2                   0                 0  \n",
       "3                   0                 0  \n",
       "4                   0                 0  \n",
       "..                ...               ...  \n",
       "200                 0                 0  \n",
       "201                 0                 0  \n",
       "202                 0                 0  \n",
       "203                 0                 0  \n",
       "204                 0                 0  \n",
       "\n",
       "[205 rows x 58 columns]"
      ]
     },
     "execution_count": 225,
     "metadata": {},
     "output_type": "execute_result"
    }
   ],
   "source": [
    "df = pd.get_dummies(df, columns=['fuel-system'])\n",
    "df"
   ]
  },
  {
   "cell_type": "markdown",
   "id": "cf4e9f78",
   "metadata": {},
   "source": [
    "### 12. bore"
   ]
  },
  {
   "cell_type": "code",
   "execution_count": 219,
   "id": "6664be53",
   "metadata": {},
   "outputs": [
    {
     "data": {
      "text/plain": [
       "array(['3.47', '2.68', '3.19', '3.13', '3.5', '3.31', '3.62', '2.91',\n",
       "       '3.03', '2.97', '3.34', '3.6', '2.92', '3.15', '3.43', '3.63',\n",
       "       '3.54', '3.08', nan, '3.39', '3.76', '3.58', '3.46', '3.8', '3.78',\n",
       "       '3.17', '3.35', '3.59', '2.99', '3.33', '3.7', '3.61', '3.94',\n",
       "       '3.74', '2.54', '3.05', '3.27', '3.24', '3.01'], dtype=object)"
      ]
     },
     "execution_count": 219,
     "metadata": {},
     "output_type": "execute_result"
    }
   ],
   "source": [
    "df['bore'].unique()"
   ]
  },
  {
   "cell_type": "code",
   "execution_count": 220,
   "id": "9ebdeca7",
   "metadata": {
    "scrolled": true
   },
   "outputs": [
    {
     "data": {
      "text/plain": [
       "4"
      ]
     },
     "execution_count": 220,
     "metadata": {},
     "output_type": "execute_result"
    }
   ],
   "source": [
    "df['bore'].isna().sum()"
   ]
  },
  {
   "cell_type": "code",
   "execution_count": 221,
   "id": "e4360ae5",
   "metadata": {},
   "outputs": [],
   "source": [
    "# Imputation of missing value with median\n",
    "\n",
    "df['bore'] = df['bore'].fillna(df['bore'].median()).astype(float)"
   ]
  },
  {
   "cell_type": "code",
   "execution_count": 222,
   "id": "2765102c",
   "metadata": {},
   "outputs": [
    {
     "data": {
      "text/plain": [
       "0"
      ]
     },
     "execution_count": 222,
     "metadata": {},
     "output_type": "execute_result"
    }
   ],
   "source": [
    "df['bore'].isna().sum()"
   ]
  },
  {
   "cell_type": "markdown",
   "id": "3d5a8640",
   "metadata": {},
   "source": [
    "### 13. stroke"
   ]
  },
  {
   "cell_type": "code",
   "execution_count": 190,
   "id": "459646b7",
   "metadata": {},
   "outputs": [
    {
     "data": {
      "text/plain": [
       "array(['2.68', '3.47', '3.4', '2.8', '3.19', '3.39', '3.03', '3.11',\n",
       "       '3.23', '3.46', '3.9', '3.41', '3.07', '3.58', '4.17', '2.76',\n",
       "       '3.15', nan, '3.16', '3.64', '3.1', '3.35', '3.12', '3.86', '3.29',\n",
       "       '3.27', '3.52', '2.19', '3.21', '2.9', '2.07', '2.36', '2.64',\n",
       "       '3.08', '3.5', '3.54', '2.87'], dtype=object)"
      ]
     },
     "execution_count": 190,
     "metadata": {},
     "output_type": "execute_result"
    }
   ],
   "source": [
    "df['stroke'].unique()"
   ]
  },
  {
   "cell_type": "code",
   "execution_count": 191,
   "id": "7e9cb905",
   "metadata": {},
   "outputs": [
    {
     "data": {
      "text/plain": [
       "4"
      ]
     },
     "execution_count": 191,
     "metadata": {},
     "output_type": "execute_result"
    }
   ],
   "source": [
    "df['stroke'].isna().sum()"
   ]
  },
  {
   "cell_type": "code",
   "execution_count": 192,
   "id": "12c79721",
   "metadata": {},
   "outputs": [],
   "source": [
    "# Imputation of missing value\n",
    "\n",
    "df['stroke'] = df['stroke'].fillna(df['stroke'].median()).astype(float)"
   ]
  },
  {
   "cell_type": "code",
   "execution_count": 193,
   "id": "9a3b12dd",
   "metadata": {},
   "outputs": [
    {
     "data": {
      "text/plain": [
       "0"
      ]
     },
     "execution_count": 193,
     "metadata": {},
     "output_type": "execute_result"
    }
   ],
   "source": [
    "df['stroke'].isna().sum()"
   ]
  },
  {
   "cell_type": "markdown",
   "id": "6a56bec4",
   "metadata": {},
   "source": [
    "### 14. horsepower"
   ]
  },
  {
   "cell_type": "code",
   "execution_count": 194,
   "id": "92d5d5bd",
   "metadata": {},
   "outputs": [
    {
     "data": {
      "text/plain": [
       "array(['111', '154', '102', '115', '110', '140', '160', '101', '121',\n",
       "       '182', '48', '70', '68', '88', '145', '58', '76', '60', '86',\n",
       "       '100', '78', '90', '176', '262', '135', '84', '64', '120', '72',\n",
       "       '123', '155', '184', '175', '116', '69', '55', '97', '152', '200',\n",
       "       '95', '142', '143', '207', '288', nan, '73', '82', '94', '62',\n",
       "       '56', '112', '92', '161', '156', '52', '85', '114', '162', '134',\n",
       "       '106'], dtype=object)"
      ]
     },
     "execution_count": 194,
     "metadata": {},
     "output_type": "execute_result"
    }
   ],
   "source": [
    "df['horsepower'].unique()"
   ]
  },
  {
   "cell_type": "code",
   "execution_count": 195,
   "id": "8ad7ad79",
   "metadata": {},
   "outputs": [
    {
     "data": {
      "text/plain": [
       "2"
      ]
     },
     "execution_count": 195,
     "metadata": {},
     "output_type": "execute_result"
    }
   ],
   "source": [
    "df['horsepower'].isna().sum()"
   ]
  },
  {
   "cell_type": "code",
   "execution_count": 196,
   "id": "d5672ede",
   "metadata": {},
   "outputs": [],
   "source": [
    "# Imputation of missing value\n",
    "\n",
    "df['horsepower'] = df['horsepower'].fillna(df['horsepower'].median()).astype(float)"
   ]
  },
  {
   "cell_type": "code",
   "execution_count": 197,
   "id": "979e6500",
   "metadata": {},
   "outputs": [
    {
     "data": {
      "text/plain": [
       "0"
      ]
     },
     "execution_count": 197,
     "metadata": {},
     "output_type": "execute_result"
    }
   ],
   "source": [
    "df['horsepower'].isna().sum()"
   ]
  },
  {
   "cell_type": "markdown",
   "id": "a21a1cbf",
   "metadata": {},
   "source": [
    "### 15. peak-rpm"
   ]
  },
  {
   "cell_type": "code",
   "execution_count": 198,
   "id": "2a23c33d",
   "metadata": {},
   "outputs": [
    {
     "data": {
      "text/plain": [
       "array(['5000', '5500', '5800', '4250', '5400', '5100', '4800', '6000',\n",
       "       '4750', '4650', '4200', '4350', '4500', '5200', '4150', '5600',\n",
       "       '5900', '5750', nan, '5250', '4900', '4400', '6600', '5300'],\n",
       "      dtype=object)"
      ]
     },
     "execution_count": 198,
     "metadata": {},
     "output_type": "execute_result"
    }
   ],
   "source": [
    "df['peak-rpm'].unique()"
   ]
  },
  {
   "cell_type": "code",
   "execution_count": 199,
   "id": "af90321a",
   "metadata": {},
   "outputs": [
    {
     "data": {
      "text/plain": [
       "2"
      ]
     },
     "execution_count": 199,
     "metadata": {},
     "output_type": "execute_result"
    }
   ],
   "source": [
    "df['peak-rpm'].isna().sum()"
   ]
  },
  {
   "cell_type": "code",
   "execution_count": 200,
   "id": "f50ef42f",
   "metadata": {},
   "outputs": [],
   "source": [
    "df['peak-rpm'] = df['peak-rpm'].fillna(df['peak-rpm'].median()).astype(float)"
   ]
  },
  {
   "cell_type": "code",
   "execution_count": 201,
   "id": "deac6a0f",
   "metadata": {},
   "outputs": [
    {
     "data": {
      "text/plain": [
       "0"
      ]
     },
     "execution_count": 201,
     "metadata": {},
     "output_type": "execute_result"
    }
   ],
   "source": [
    "df['peak-rpm'].isna().sum()"
   ]
  },
  {
   "cell_type": "markdown",
   "id": "d9f640cd",
   "metadata": {},
   "source": [
    "### 16. price"
   ]
  },
  {
   "cell_type": "code",
   "execution_count": 202,
   "id": "1b45ead4",
   "metadata": {},
   "outputs": [
    {
     "data": {
      "text/plain": [
       "4"
      ]
     },
     "execution_count": 202,
     "metadata": {},
     "output_type": "execute_result"
    }
   ],
   "source": [
    "df['price'].isna().sum()"
   ]
  },
  {
   "cell_type": "code",
   "execution_count": 203,
   "id": "79d1a67c",
   "metadata": {},
   "outputs": [],
   "source": [
    "df['price'] = df['price'].fillna(df['price'].median()).astype(float)"
   ]
  },
  {
   "cell_type": "code",
   "execution_count": 204,
   "id": "f43206c5",
   "metadata": {
    "scrolled": true
   },
   "outputs": [
    {
     "data": {
      "text/plain": [
       "0"
      ]
     },
     "execution_count": 204,
     "metadata": {},
     "output_type": "execute_result"
    }
   ],
   "source": [
    "df['price'].isna().sum()"
   ]
  },
  {
   "cell_type": "code",
   "execution_count": 235,
   "id": "51de3ed8",
   "metadata": {},
   "outputs": [
    {
     "name": "stdout",
     "output_type": "stream",
     "text": [
      "<class 'pandas.core.frame.DataFrame'>\n",
      "RangeIndex: 205 entries, 0 to 204\n",
      "Data columns (total 64 columns):\n",
      " #   Column                  Non-Null Count  Dtype  \n",
      "---  ------                  --------------  -----  \n",
      " 0   symboling               205 non-null    int64  \n",
      " 1   normalized-losses       205 non-null    float64\n",
      " 2   fuel-type               205 non-null    int64  \n",
      " 3   aspiration              205 non-null    int64  \n",
      " 4   num-of-doors            205 non-null    int64  \n",
      " 5   drive-wheels            205 non-null    int64  \n",
      " 6   engine-location         205 non-null    int64  \n",
      " 7   wheel-base              205 non-null    float64\n",
      " 8   length                  205 non-null    float64\n",
      " 9   width                   205 non-null    float64\n",
      " 10  height                  205 non-null    float64\n",
      " 11  curb-weight             205 non-null    int64  \n",
      " 12  num-of-cylinders        205 non-null    int64  \n",
      " 13  engine-size             205 non-null    int64  \n",
      " 14  bore                    205 non-null    float64\n",
      " 15  stroke                  205 non-null    float64\n",
      " 16  compression-ratio       205 non-null    float64\n",
      " 17  horsepower              205 non-null    float64\n",
      " 18  peak-rpm                205 non-null    float64\n",
      " 19  city-mpg                205 non-null    int64  \n",
      " 20  highway-mpg             205 non-null    int64  \n",
      " 21  price                   205 non-null    float64\n",
      " 22  make_alfa-romero        205 non-null    uint8  \n",
      " 23  make_audi               205 non-null    uint8  \n",
      " 24  make_bmw                205 non-null    uint8  \n",
      " 25  make_chevrolet          205 non-null    uint8  \n",
      " 26  make_dodge              205 non-null    uint8  \n",
      " 27  make_honda              205 non-null    uint8  \n",
      " 28  make_isuzu              205 non-null    uint8  \n",
      " 29  make_jaguar             205 non-null    uint8  \n",
      " 30  make_mazda              205 non-null    uint8  \n",
      " 31  make_mercedes-benz      205 non-null    uint8  \n",
      " 32  make_mercury            205 non-null    uint8  \n",
      " 33  make_mitsubishi         205 non-null    uint8  \n",
      " 34  make_nissan             205 non-null    uint8  \n",
      " 35  make_peugot             205 non-null    uint8  \n",
      " 36  make_plymouth           205 non-null    uint8  \n",
      " 37  make_porsche            205 non-null    uint8  \n",
      " 38  make_renault            205 non-null    uint8  \n",
      " 39  make_saab               205 non-null    uint8  \n",
      " 40  make_subaru             205 non-null    uint8  \n",
      " 41  make_toyota             205 non-null    uint8  \n",
      " 42  make_volkswagen         205 non-null    uint8  \n",
      " 43  make_volvo              205 non-null    uint8  \n",
      " 44  body-style_convertible  205 non-null    uint8  \n",
      " 45  body-style_hardtop      205 non-null    uint8  \n",
      " 46  body-style_hatchback    205 non-null    uint8  \n",
      " 47  body-style_sedan        205 non-null    uint8  \n",
      " 48  body-style_wagon        205 non-null    uint8  \n",
      " 49  fuel-system_1bbl        205 non-null    uint8  \n",
      " 50  fuel-system_2bbl        205 non-null    uint8  \n",
      " 51  fuel-system_4bbl        205 non-null    uint8  \n",
      " 52  fuel-system_idi         205 non-null    uint8  \n",
      " 53  fuel-system_mfi         205 non-null    uint8  \n",
      " 54  fuel-system_mpfi        205 non-null    uint8  \n",
      " 55  fuel-system_spdi        205 non-null    uint8  \n",
      " 56  fuel-system_spfi        205 non-null    uint8  \n",
      " 57  engine-type_dohc        205 non-null    uint8  \n",
      " 58  engine-type_dohcv       205 non-null    uint8  \n",
      " 59  engine-type_l           205 non-null    uint8  \n",
      " 60  engine-type_ohc         205 non-null    uint8  \n",
      " 61  engine-type_ohcf        205 non-null    uint8  \n",
      " 62  engine-type_ohcv        205 non-null    uint8  \n",
      " 63  engine-type_rotor       205 non-null    uint8  \n",
      "dtypes: float64(11), int64(11), uint8(42)\n",
      "memory usage: 43.8 KB\n"
     ]
    }
   ],
   "source": [
    "df.info()"
   ]
  },
  {
   "cell_type": "markdown",
   "id": "ab6b0882",
   "metadata": {},
   "source": [
    "### Step 5: Feature Selection"
   ]
  },
  {
   "cell_type": "code",
   "execution_count": 236,
   "id": "c307bdde",
   "metadata": {},
   "outputs": [
    {
     "data": {
      "text/html": [
       "<div>\n",
       "<style scoped>\n",
       "    .dataframe tbody tr th:only-of-type {\n",
       "        vertical-align: middle;\n",
       "    }\n",
       "\n",
       "    .dataframe tbody tr th {\n",
       "        vertical-align: top;\n",
       "    }\n",
       "\n",
       "    .dataframe thead th {\n",
       "        text-align: right;\n",
       "    }\n",
       "</style>\n",
       "<table border=\"1\" class=\"dataframe\">\n",
       "  <thead>\n",
       "    <tr style=\"text-align: right;\">\n",
       "      <th></th>\n",
       "      <th>symboling</th>\n",
       "      <th>normalized-losses</th>\n",
       "      <th>fuel-type</th>\n",
       "      <th>aspiration</th>\n",
       "      <th>num-of-doors</th>\n",
       "      <th>drive-wheels</th>\n",
       "      <th>engine-location</th>\n",
       "      <th>wheel-base</th>\n",
       "      <th>length</th>\n",
       "      <th>width</th>\n",
       "      <th>...</th>\n",
       "      <th>fuel-system_mpfi</th>\n",
       "      <th>fuel-system_spdi</th>\n",
       "      <th>fuel-system_spfi</th>\n",
       "      <th>engine-type_dohc</th>\n",
       "      <th>engine-type_dohcv</th>\n",
       "      <th>engine-type_l</th>\n",
       "      <th>engine-type_ohc</th>\n",
       "      <th>engine-type_ohcf</th>\n",
       "      <th>engine-type_ohcv</th>\n",
       "      <th>engine-type_rotor</th>\n",
       "    </tr>\n",
       "  </thead>\n",
       "  <tbody>\n",
       "    <tr>\n",
       "      <th>symboling</th>\n",
       "      <td>1.000000</td>\n",
       "      <td>0.457484</td>\n",
       "      <td>0.194311</td>\n",
       "      <td>-0.059866</td>\n",
       "      <td>-0.663595</td>\n",
       "      <td>-0.111150</td>\n",
       "      <td>0.212471</td>\n",
       "      <td>-0.531954</td>\n",
       "      <td>-0.357612</td>\n",
       "      <td>-0.232919</td>\n",
       "      <td>...</td>\n",
       "      <td>0.012532</td>\n",
       "      <td>0.181939</td>\n",
       "      <td>0.065707</td>\n",
       "      <td>0.116925</td>\n",
       "      <td>0.009347</td>\n",
       "      <td>-0.133979</td>\n",
       "      <td>-0.082855</td>\n",
       "      <td>0.037513</td>\n",
       "      <td>-0.013597</td>\n",
       "      <td>0.245950</td>\n",
       "    </tr>\n",
       "    <tr>\n",
       "      <th>normalized-losses</th>\n",
       "      <td>0.457484</td>\n",
       "      <td>1.000000</td>\n",
       "      <td>0.104668</td>\n",
       "      <td>-0.011273</td>\n",
       "      <td>-0.348850</td>\n",
       "      <td>0.133824</td>\n",
       "      <td>-0.021510</td>\n",
       "      <td>-0.073709</td>\n",
       "      <td>-0.006837</td>\n",
       "      <td>0.058378</td>\n",
       "      <td>...</td>\n",
       "      <td>0.179458</td>\n",
       "      <td>0.052231</td>\n",
       "      <td>-0.012358</td>\n",
       "      <td>0.151813</td>\n",
       "      <td>-0.012358</td>\n",
       "      <td>0.170806</td>\n",
       "      <td>-0.156069</td>\n",
       "      <td>-0.210771</td>\n",
       "      <td>0.130717</td>\n",
       "      <td>0.130721</td>\n",
       "    </tr>\n",
       "    <tr>\n",
       "      <th>fuel-type</th>\n",
       "      <td>0.194311</td>\n",
       "      <td>0.104668</td>\n",
       "      <td>1.000000</td>\n",
       "      <td>-0.401397</td>\n",
       "      <td>-0.188496</td>\n",
       "      <td>-0.051874</td>\n",
       "      <td>0.040070</td>\n",
       "      <td>-0.308346</td>\n",
       "      <td>-0.212679</td>\n",
       "      <td>-0.233880</td>\n",
       "      <td>...</td>\n",
       "      <td>0.302574</td>\n",
       "      <td>0.070457</td>\n",
       "      <td>0.023020</td>\n",
       "      <td>0.081986</td>\n",
       "      <td>0.023020</td>\n",
       "      <td>-0.268163</td>\n",
       "      <td>-0.020584</td>\n",
       "      <td>0.092384</td>\n",
       "      <td>0.085556</td>\n",
       "      <td>0.046383</td>\n",
       "    </tr>\n",
       "    <tr>\n",
       "      <th>aspiration</th>\n",
       "      <td>-0.059866</td>\n",
       "      <td>-0.011273</td>\n",
       "      <td>-0.401397</td>\n",
       "      <td>1.000000</td>\n",
       "      <td>0.052803</td>\n",
       "      <td>0.153897</td>\n",
       "      <td>-0.057191</td>\n",
       "      <td>0.257611</td>\n",
       "      <td>0.234539</td>\n",
       "      <td>0.300567</td>\n",
       "      <td>...</td>\n",
       "      <td>-0.050041</td>\n",
       "      <td>0.394703</td>\n",
       "      <td>-0.032857</td>\n",
       "      <td>-0.008961</td>\n",
       "      <td>-0.032857</td>\n",
       "      <td>0.207156</td>\n",
       "      <td>-0.020162</td>\n",
       "      <td>-0.034450</td>\n",
       "      <td>-0.070070</td>\n",
       "      <td>-0.066203</td>\n",
       "    </tr>\n",
       "    <tr>\n",
       "      <th>num-of-doors</th>\n",
       "      <td>-0.663595</td>\n",
       "      <td>-0.348850</td>\n",
       "      <td>-0.188496</td>\n",
       "      <td>0.052803</td>\n",
       "      <td>1.000000</td>\n",
       "      <td>-0.003230</td>\n",
       "      <td>-0.139129</td>\n",
       "      <td>0.439635</td>\n",
       "      <td>0.385675</td>\n",
       "      <td>0.197735</td>\n",
       "      <td>...</td>\n",
       "      <td>0.035746</td>\n",
       "      <td>-0.148565</td>\n",
       "      <td>-0.079932</td>\n",
       "      <td>-0.075054</td>\n",
       "      <td>-0.079932</td>\n",
       "      <td>0.176489</td>\n",
       "      <td>0.027539</td>\n",
       "      <td>0.019357</td>\n",
       "      <td>-0.054764</td>\n",
       "      <td>-0.161052</td>\n",
       "    </tr>\n",
       "    <tr>\n",
       "      <th>...</th>\n",
       "      <td>...</td>\n",
       "      <td>...</td>\n",
       "      <td>...</td>\n",
       "      <td>...</td>\n",
       "      <td>...</td>\n",
       "      <td>...</td>\n",
       "      <td>...</td>\n",
       "      <td>...</td>\n",
       "      <td>...</td>\n",
       "      <td>...</td>\n",
       "      <td>...</td>\n",
       "      <td>...</td>\n",
       "      <td>...</td>\n",
       "      <td>...</td>\n",
       "      <td>...</td>\n",
       "      <td>...</td>\n",
       "      <td>...</td>\n",
       "      <td>...</td>\n",
       "      <td>...</td>\n",
       "      <td>...</td>\n",
       "      <td>...</td>\n",
       "    </tr>\n",
       "    <tr>\n",
       "      <th>engine-type_l</th>\n",
       "      <td>-0.133979</td>\n",
       "      <td>0.170806</td>\n",
       "      <td>-0.268163</td>\n",
       "      <td>0.207156</td>\n",
       "      <td>0.176489</td>\n",
       "      <td>0.197050</td>\n",
       "      <td>-0.030388</td>\n",
       "      <td>0.399603</td>\n",
       "      <td>0.261715</td>\n",
       "      <td>0.210771</td>\n",
       "      <td>...</td>\n",
       "      <td>0.020749</td>\n",
       "      <td>-0.053432</td>\n",
       "      <td>-0.017458</td>\n",
       "      <td>-0.062176</td>\n",
       "      <td>-0.017458</td>\n",
       "      <td>1.000000</td>\n",
       "      <td>-0.401796</td>\n",
       "      <td>-0.070062</td>\n",
       "      <td>-0.064883</td>\n",
       "      <td>-0.035176</td>\n",
       "    </tr>\n",
       "    <tr>\n",
       "      <th>engine-type_ohc</th>\n",
       "      <td>-0.082855</td>\n",
       "      <td>-0.156069</td>\n",
       "      <td>-0.020584</td>\n",
       "      <td>-0.020162</td>\n",
       "      <td>0.027539</td>\n",
       "      <td>-0.429386</td>\n",
       "      <td>-0.196371</td>\n",
       "      <td>-0.204037</td>\n",
       "      <td>-0.274413</td>\n",
       "      <td>-0.286211</td>\n",
       "      <td>...</td>\n",
       "      <td>-0.302922</td>\n",
       "      <td>0.132984</td>\n",
       "      <td>0.043450</td>\n",
       "      <td>-0.401796</td>\n",
       "      <td>-0.112818</td>\n",
       "      <td>-0.401796</td>\n",
       "      <td>1.000000</td>\n",
       "      <td>-0.452754</td>\n",
       "      <td>-0.419290</td>\n",
       "      <td>-0.227314</td>\n",
       "    </tr>\n",
       "    <tr>\n",
       "      <th>engine-type_ohcf</th>\n",
       "      <td>0.037513</td>\n",
       "      <td>-0.210771</td>\n",
       "      <td>0.092384</td>\n",
       "      <td>-0.034450</td>\n",
       "      <td>0.019357</td>\n",
       "      <td>0.197807</td>\n",
       "      <td>0.433727</td>\n",
       "      <td>-0.183195</td>\n",
       "      <td>-0.118320</td>\n",
       "      <td>-0.124446</td>\n",
       "      <td>...</td>\n",
       "      <td>0.004585</td>\n",
       "      <td>-0.060209</td>\n",
       "      <td>-0.019672</td>\n",
       "      <td>-0.070062</td>\n",
       "      <td>-0.019672</td>\n",
       "      <td>-0.070062</td>\n",
       "      <td>-0.452754</td>\n",
       "      <td>1.000000</td>\n",
       "      <td>-0.073112</td>\n",
       "      <td>-0.039637</td>\n",
       "    </tr>\n",
       "    <tr>\n",
       "      <th>engine-type_ohcv</th>\n",
       "      <td>-0.013597</td>\n",
       "      <td>0.130717</td>\n",
       "      <td>0.085556</td>\n",
       "      <td>-0.070070</td>\n",
       "      <td>-0.054764</td>\n",
       "      <td>0.139453</td>\n",
       "      <td>-0.031711</td>\n",
       "      <td>0.166152</td>\n",
       "      <td>0.244053</td>\n",
       "      <td>0.348869</td>\n",
       "      <td>...</td>\n",
       "      <td>0.282760</td>\n",
       "      <td>-0.055759</td>\n",
       "      <td>-0.018218</td>\n",
       "      <td>-0.064883</td>\n",
       "      <td>-0.018218</td>\n",
       "      <td>-0.064883</td>\n",
       "      <td>-0.419290</td>\n",
       "      <td>-0.073112</td>\n",
       "      <td>1.000000</td>\n",
       "      <td>-0.036707</td>\n",
       "    </tr>\n",
       "    <tr>\n",
       "      <th>engine-type_rotor</th>\n",
       "      <td>0.245950</td>\n",
       "      <td>0.130721</td>\n",
       "      <td>0.046383</td>\n",
       "      <td>-0.066203</td>\n",
       "      <td>-0.161052</td>\n",
       "      <td>0.131758</td>\n",
       "      <td>-0.017192</td>\n",
       "      <td>-0.081174</td>\n",
       "      <td>-0.057877</td>\n",
       "      <td>-0.013699</td>\n",
       "      <td>...</td>\n",
       "      <td>-0.059039</td>\n",
       "      <td>-0.030229</td>\n",
       "      <td>-0.009877</td>\n",
       "      <td>-0.035176</td>\n",
       "      <td>-0.009877</td>\n",
       "      <td>-0.035176</td>\n",
       "      <td>-0.227314</td>\n",
       "      <td>-0.039637</td>\n",
       "      <td>-0.036707</td>\n",
       "      <td>1.000000</td>\n",
       "    </tr>\n",
       "  </tbody>\n",
       "</table>\n",
       "<p>64 rows × 64 columns</p>\n",
       "</div>"
      ],
      "text/plain": [
       "                   symboling  normalized-losses  fuel-type  aspiration  \\\n",
       "symboling           1.000000           0.457484   0.194311   -0.059866   \n",
       "normalized-losses   0.457484           1.000000   0.104668   -0.011273   \n",
       "fuel-type           0.194311           0.104668   1.000000   -0.401397   \n",
       "aspiration         -0.059866          -0.011273  -0.401397    1.000000   \n",
       "num-of-doors       -0.663595          -0.348850  -0.188496    0.052803   \n",
       "...                      ...                ...        ...         ...   \n",
       "engine-type_l      -0.133979           0.170806  -0.268163    0.207156   \n",
       "engine-type_ohc    -0.082855          -0.156069  -0.020584   -0.020162   \n",
       "engine-type_ohcf    0.037513          -0.210771   0.092384   -0.034450   \n",
       "engine-type_ohcv   -0.013597           0.130717   0.085556   -0.070070   \n",
       "engine-type_rotor   0.245950           0.130721   0.046383   -0.066203   \n",
       "\n",
       "                   num-of-doors  drive-wheels  engine-location  wheel-base  \\\n",
       "symboling             -0.663595     -0.111150         0.212471   -0.531954   \n",
       "normalized-losses     -0.348850      0.133824        -0.021510   -0.073709   \n",
       "fuel-type             -0.188496     -0.051874         0.040070   -0.308346   \n",
       "aspiration             0.052803      0.153897        -0.057191    0.257611   \n",
       "num-of-doors           1.000000     -0.003230        -0.139129    0.439635   \n",
       "...                         ...           ...              ...         ...   \n",
       "engine-type_l          0.176489      0.197050        -0.030388    0.399603   \n",
       "engine-type_ohc        0.027539     -0.429386        -0.196371   -0.204037   \n",
       "engine-type_ohcf       0.019357      0.197807         0.433727   -0.183195   \n",
       "engine-type_ohcv      -0.054764      0.139453        -0.031711    0.166152   \n",
       "engine-type_rotor     -0.161052      0.131758        -0.017192   -0.081174   \n",
       "\n",
       "                     length     width  ...  fuel-system_mpfi  \\\n",
       "symboling         -0.357612 -0.232919  ...          0.012532   \n",
       "normalized-losses -0.006837  0.058378  ...          0.179458   \n",
       "fuel-type         -0.212679 -0.233880  ...          0.302574   \n",
       "aspiration         0.234539  0.300567  ...         -0.050041   \n",
       "num-of-doors       0.385675  0.197735  ...          0.035746   \n",
       "...                     ...       ...  ...               ...   \n",
       "engine-type_l      0.261715  0.210771  ...          0.020749   \n",
       "engine-type_ohc   -0.274413 -0.286211  ...         -0.302922   \n",
       "engine-type_ohcf  -0.118320 -0.124446  ...          0.004585   \n",
       "engine-type_ohcv   0.244053  0.348869  ...          0.282760   \n",
       "engine-type_rotor -0.057877 -0.013699  ...         -0.059039   \n",
       "\n",
       "                   fuel-system_spdi  fuel-system_spfi  engine-type_dohc  \\\n",
       "symboling                  0.181939          0.065707          0.116925   \n",
       "normalized-losses          0.052231         -0.012358          0.151813   \n",
       "fuel-type                  0.070457          0.023020          0.081986   \n",
       "aspiration                 0.394703         -0.032857         -0.008961   \n",
       "num-of-doors              -0.148565         -0.079932         -0.075054   \n",
       "...                             ...               ...               ...   \n",
       "engine-type_l             -0.053432         -0.017458         -0.062176   \n",
       "engine-type_ohc            0.132984          0.043450         -0.401796   \n",
       "engine-type_ohcf          -0.060209         -0.019672         -0.070062   \n",
       "engine-type_ohcv          -0.055759         -0.018218         -0.064883   \n",
       "engine-type_rotor         -0.030229         -0.009877         -0.035176   \n",
       "\n",
       "                   engine-type_dohcv  engine-type_l  engine-type_ohc  \\\n",
       "symboling                   0.009347      -0.133979        -0.082855   \n",
       "normalized-losses          -0.012358       0.170806        -0.156069   \n",
       "fuel-type                   0.023020      -0.268163        -0.020584   \n",
       "aspiration                 -0.032857       0.207156        -0.020162   \n",
       "num-of-doors               -0.079932       0.176489         0.027539   \n",
       "...                              ...            ...              ...   \n",
       "engine-type_l              -0.017458       1.000000        -0.401796   \n",
       "engine-type_ohc            -0.112818      -0.401796         1.000000   \n",
       "engine-type_ohcf           -0.019672      -0.070062        -0.452754   \n",
       "engine-type_ohcv           -0.018218      -0.064883        -0.419290   \n",
       "engine-type_rotor          -0.009877      -0.035176        -0.227314   \n",
       "\n",
       "                   engine-type_ohcf  engine-type_ohcv  engine-type_rotor  \n",
       "symboling                  0.037513         -0.013597           0.245950  \n",
       "normalized-losses         -0.210771          0.130717           0.130721  \n",
       "fuel-type                  0.092384          0.085556           0.046383  \n",
       "aspiration                -0.034450         -0.070070          -0.066203  \n",
       "num-of-doors               0.019357         -0.054764          -0.161052  \n",
       "...                             ...               ...                ...  \n",
       "engine-type_l             -0.070062         -0.064883          -0.035176  \n",
       "engine-type_ohc           -0.452754         -0.419290          -0.227314  \n",
       "engine-type_ohcf           1.000000         -0.073112          -0.039637  \n",
       "engine-type_ohcv          -0.073112          1.000000          -0.036707  \n",
       "engine-type_rotor         -0.039637         -0.036707           1.000000  \n",
       "\n",
       "[64 rows x 64 columns]"
      ]
     },
     "execution_count": 236,
     "metadata": {},
     "output_type": "execute_result"
    }
   ],
   "source": [
    "df.corr()"
   ]
  },
  {
   "cell_type": "code",
   "execution_count": 237,
   "id": "3afb372e",
   "metadata": {},
   "outputs": [
    {
     "data": {
      "text/plain": [
       "symboling            6.062736\n",
       "normalized-losses    3.112823\n",
       "fuel-type                 inf\n",
       "aspiration           6.187690\n",
       "num-of-doors         3.817695\n",
       "                       ...   \n",
       "engine-type_l             inf\n",
       "engine-type_ohc           inf\n",
       "engine-type_ohcf          inf\n",
       "engine-type_ohcv          inf\n",
       "engine-type_rotor         inf\n",
       "Length: 63, dtype: float64"
      ]
     },
     "execution_count": 237,
     "metadata": {},
     "output_type": "execute_result"
    }
   ],
   "source": [
    "# Checking for Multicollinearity\n",
    "\n",
    "df1 = df.drop('price', axis=1)    # Dropping dependant variable from dataset\n",
    "\n",
    "vif_list = []\n",
    "\n",
    "for i in range(df1.shape[1]):\n",
    "    vif = variance_inflation_factor(df1,i)\n",
    "    vif_list.append(vif)\n",
    "\n",
    "s1 = pd.Series(vif_list, index=df1.columns)\n",
    "s1\n",
    "\n",
    "# s1.sort_values().plot(kind = 'barh')"
   ]
  },
  {
   "cell_type": "markdown",
   "id": "bcdaacfe",
   "metadata": {},
   "source": [
    "#### Train-Test Split"
   ]
  },
  {
   "cell_type": "code",
   "execution_count": 238,
   "id": "dbd87bee",
   "metadata": {},
   "outputs": [],
   "source": [
    "x = df.drop('price', axis= 1)  # independent variables\n",
    "y = df['price']  # dependent variables"
   ]
  },
  {
   "cell_type": "code",
   "execution_count": 251,
   "id": "a064a458",
   "metadata": {},
   "outputs": [
    {
     "name": "stdout",
     "output_type": "stream",
     "text": [
      "Training data counts (164, 63) (164,)\n",
      "Testing data counts (41, 63) (41,)\n"
     ]
    }
   ],
   "source": [
    "x_train, x_test, y_train, y_test = train_test_split(x,y, test_size=0.2, random_state= 9)\n",
    "\n",
    "print(\"Training data counts\", x_train.shape, y_train.shape)\n",
    "print(\"Testing data counts\", x_test.shape, y_test.shape)"
   ]
  },
  {
   "cell_type": "markdown",
   "id": "8461d489",
   "metadata": {},
   "source": [
    "# Model Training"
   ]
  },
  {
   "cell_type": "code",
   "execution_count": 258,
   "id": "1eb10ad2",
   "metadata": {},
   "outputs": [
    {
     "data": {
      "text/plain": [
       "LinearRegression()"
      ]
     },
     "execution_count": 258,
     "metadata": {},
     "output_type": "execute_result"
    }
   ],
   "source": [
    "model_linear = LinearRegression()\n",
    "\n",
    "model_linear.fit(x_train, y_train)"
   ]
  },
  {
   "cell_type": "code",
   "execution_count": 260,
   "id": "4666692c",
   "metadata": {},
   "outputs": [
    {
     "name": "stdout",
     "output_type": "stream",
     "text": [
      "Mean Sqaured Error : 2391392.9332026816\n",
      "Root Mean Sqaured Error : 1546.4129245459253\n",
      "Mean Absolute Error : 1129.2985382288748\n",
      "R Squared Value : 0.962437619451845\n",
      "Adjusted R Squared Value : 0.9387733197065073\n"
     ]
    }
   ],
   "source": [
    "# Model Evaluation for Training Data\n",
    "\n",
    "y_pred_train = model_linear.predict(x_train)\n",
    "\n",
    "mse = mean_squared_error(y_train, y_pred_train)\n",
    "print(\"Mean Sqaured Error :\",mse)\n",
    "\n",
    "rmse = np.sqrt(mse)\n",
    "print(\"Root Mean Sqaured Error :\",rmse)\n",
    "\n",
    "mae = mean_absolute_error(y_train, y_pred_train)\n",
    "print(\"Mean Absolute Error :\",mae)\n",
    "\n",
    "r_squared_value = r2_score(y_train, y_pred_train)\n",
    "print(\"R Squared Value :\",r_squared_value)\n",
    "\n",
    "adj_r2  = 1 - (((1 - r_squared_value) * (x_train.shape[0] - 1)) / (x_train.shape[0] - x_train.shape[1] - 1))\n",
    "print(\"Adjusted R Squared Value :\",adj_r2)"
   ]
  },
  {
   "cell_type": "code",
   "execution_count": 261,
   "id": "ee408ac7",
   "metadata": {},
   "outputs": [
    {
     "name": "stdout",
     "output_type": "stream",
     "text": [
      "Mean Sqaured Error : 6792666.853525117\n",
      "Root Mean Sqaured Error : 2606.2745161485036\n",
      "Mean Absolute Error : 1592.968674573721\n",
      "R Squared Value : 0.8701141652233484\n",
      "Adjusted R Squared Value : 1.2258884083072201\n"
     ]
    }
   ],
   "source": [
    "# Model Evaluation for Testing Data\n",
    "y_pred = model_linear.predict(x_test)\n",
    "\n",
    "mse = mean_squared_error(y_test, y_pred)\n",
    "print(\"Mean Sqaured Error :\",mse)\n",
    "\n",
    "rmse = np.sqrt(mse)\n",
    "print(\"Root Mean Sqaured Error :\",rmse)\n",
    "\n",
    "mae = mean_absolute_error(y_test, y_pred)\n",
    "print(\"Mean Absolute Error :\",mae)\n",
    "\n",
    "r_squared_value = r2_score(y_test, y_pred)\n",
    "print(\"R Squared Value :\",r_squared_value)\n",
    "\n",
    "adj_r2  = 1 - (((1 - r_squared_value) * (x_test.shape[0] - 1)) / (x_test.shape[0] - x_test.shape[1] - 1))\n",
    "print(\"Adjusted R Squared Value :\",adj_r2)"
   ]
  },
  {
   "cell_type": "code",
   "execution_count": 262,
   "id": "049787ba",
   "metadata": {},
   "outputs": [
    {
     "data": {
      "text/plain": [
       "<AxesSubplot:>"
      ]
     },
     "execution_count": 262,
     "metadata": {},
     "output_type": "execute_result"
    },
    {
     "data": {
      "image/png": "[encoded data removed]",
      "text/plain": [
       "<Figure size 640x480 with 1 Axes>"
      ]
     },
     "metadata": {},
     "output_type": "display_data"
    }
   ],
   "source": [
    "s2 = pd.Series(model_linear.coef_, index=x.columns)\n",
    "s2.sort_values().plot(kind = \"barh\")"
   ]
  },
  {
   "cell_type": "raw",
   "id": "94140944",
   "metadata": {},
   "source": [
    "By comparing the accuracy of training and testing data. It is observed that model is overfitted therefore we are checking the assumptions of linear regression."
   ]
  },
  {
   "cell_type": "code",
   "execution_count": 263,
   "id": "2226ac9d",
   "metadata": {},
   "outputs": [
    {
     "data": {
      "text/plain": [
       "111    1805.501237\n",
       "93      636.621267\n",
       "148   -1326.147280\n",
       "21     -818.147122\n",
       "28      771.501224\n",
       "          ...     \n",
       "56     -888.691189\n",
       "182     -22.879388\n",
       "204    1489.372537\n",
       "92      431.285687\n",
       "126   -1131.585946\n",
       "Name: price, Length: 164, dtype: float64"
      ]
     },
     "execution_count": 263,
     "metadata": {},
     "output_type": "execute_result"
    }
   ],
   "source": [
    "Residual = y_train - y_pred_train\n",
    "Residual"
   ]
  },
  {
   "cell_type": "markdown",
   "id": "a5cebe89",
   "metadata": {},
   "source": [
    "### 1. Assumption of Normality of Residual"
   ]
  },
  {
   "cell_type": "code",
   "execution_count": 264,
   "id": "111e6848",
   "metadata": {},
   "outputs": [
    {
     "data": {
      "text/plain": [
       "<AxesSubplot:xlabel='price', ylabel='Density'>"
      ]
     },
     "execution_count": 264,
     "metadata": {},
     "output_type": "execute_result"
    },
    {
     "data": {
      "image/png": "[encoded data removed]",
      "text/plain": [
       "<Figure size 640x480 with 1 Axes>"
      ]
     },
     "metadata": {},
     "output_type": "display_data"
    }
   ],
   "source": [
    "# KDE plot\n",
    "\n",
    "sns.kdeplot(Residual, fill= True )"
   ]
  },
  {
   "cell_type": "code",
   "execution_count": 265,
   "id": "154fcfcc",
   "metadata": {},
   "outputs": [
    {
     "name": "stdout",
     "output_type": "stream",
     "text": [
      "P_Value: 7.378377631539479e-06\n",
      "Null Hypothesis is Rejected >> Alternate Hypothesis is Accepted\n",
      "Data is NOT Normally Distributed\n"
     ]
    }
   ],
   "source": [
    "# Hypothesis Testing\n",
    "\n",
    "_ , p_val = shapiro(Residual)\n",
    "\n",
    "print(\"P_Value:\",p_val)\n",
    "\n",
    "if p_val >= 0.05:\n",
    "    print(\"Null Hypothesis is Accepted\")\n",
    "    print(\"--> Data is Normally Distributed\")\n",
    "    \n",
    "else:\n",
    "    print(\"Null Hypothesis is Rejected >> Alternate Hypothesis is Accepted\")\n",
    "    print(\"Data is NOT Normally Distributed\")"
   ]
  },
  {
   "cell_type": "code",
   "execution_count": 266,
   "id": "7bfba584",
   "metadata": {},
   "outputs": [
    {
     "data": {
      "image/png": "[encoded data removed]",
      "text/plain": [
       "<Figure size 640x480 with 1 Axes>"
      ]
     },
     "execution_count": 266,
     "metadata": {},
     "output_type": "execute_result"
    },
    {
     "data": {
      "image/png": "[encoded data removed]",
      "text/plain": [
       "<Figure size 640x480 with 1 Axes>"
      ]
     },
     "metadata": {},
     "output_type": "display_data"
    }
   ],
   "source": [
    "# By Using QQ plot (Visualization Method)\n",
    "\n",
    "sm.qqplot(Residual, line = '45', fit=True)\n",
    "\n",
    "# If 90% of datapoints are on the line --> data is Normally distributed"
   ]
  },
  {
   "cell_type": "markdown",
   "id": "4b590763",
   "metadata": {},
   "source": [
    "### 2. Assumption of Homoscadasticity"
   ]
  },
  {
   "cell_type": "code",
   "execution_count": 267,
   "id": "81e8d518",
   "metadata": {},
   "outputs": [
    {
     "data": {
      "text/plain": [
       "<AxesSubplot:xlabel='price', ylabel='price'>"
      ]
     },
     "execution_count": 267,
     "metadata": {},
     "output_type": "execute_result"
    },
    {
     "data": {
      "image/png": "[encoded data removed]",
      "text/plain": [
       "<Figure size 640x480 with 1 Axes>"
      ]
     },
     "metadata": {},
     "output_type": "display_data"
    }
   ],
   "source": [
    "sns.scatterplot(x = y_train, y = Residual)"
   ]
  },
  {
   "cell_type": "markdown",
   "id": "449bdd34",
   "metadata": {},
   "source": [
    "### Model Building By using Regularization Techniques"
   ]
  },
  {
   "cell_type": "markdown",
   "id": "aee44d43",
   "metadata": {},
   "source": [
    "### 1. Ridge Regression"
   ]
  },
  {
   "cell_type": "code",
   "execution_count": 268,
   "id": "0f0474e9",
   "metadata": {},
   "outputs": [
    {
     "data": {
      "text/plain": [
       "Ridge()"
      ]
     },
     "execution_count": 268,
     "metadata": {},
     "output_type": "execute_result"
    }
   ],
   "source": [
    "ridge_reg_model = Ridge()       # alpha= 1.0 (bydefault)\n",
    "\n",
    "ridge_reg_model.fit(x_train, y_train)"
   ]
  },
  {
   "cell_type": "code",
   "execution_count": 269,
   "id": "c0b58dad",
   "metadata": {},
   "outputs": [
    {
     "name": "stdout",
     "output_type": "stream",
     "text": [
      "MSE : 3382887.8923862255\n",
      "RMSE : 1839.262866581671\n",
      "MAE : 1294.086249500661\n",
      "R2 Scored : 0.9468638881543489\n"
     ]
    }
   ],
   "source": [
    "# Model Evaluation on Training Dataset\n",
    "\n",
    "y_pred_train = ridge_reg_model.predict(x_train)\n",
    "\n",
    "mse = mean_squared_error(y_train, y_pred_train)\n",
    "print(\"MSE :\",mse)\n",
    "\n",
    "rmse = np.sqrt(mse)\n",
    "print(\"RMSE :\",rmse)\n",
    "\n",
    "mae = mean_absolute_error(y_train, y_pred_train)\n",
    "print(\"MAE :\",mae)\n",
    "\n",
    "r2 = r2_score(y_train, y_pred_train)\n",
    "print(\"R2 Scored :\", r2)"
   ]
  },
  {
   "cell_type": "code",
   "execution_count": 270,
   "id": "887002da",
   "metadata": {},
   "outputs": [
    {
     "name": "stdout",
     "output_type": "stream",
     "text": [
      "MSE : 6025948.636963595\n",
      "RMSE : 2454.7807716705775\n",
      "MAE : 1678.821286187017\n",
      "R2 Scored : 0.8847749512951515\n"
     ]
    }
   ],
   "source": [
    "# Model Evaluation on Testing Dataset\n",
    "\n",
    "y_pred = ridge_reg_model.predict(x_test)\n",
    "\n",
    "mse = mean_squared_error(y_test, y_pred)\n",
    "print(\"MSE :\",mse)\n",
    "\n",
    "rmse = np.sqrt(mse)\n",
    "print(\"RMSE :\",rmse)\n",
    "\n",
    "mae = mean_absolute_error(y_test, y_pred)\n",
    "print(\"MAE :\",mae)\n",
    "\n",
    "r2 = r2_score(y_test, y_pred)\n",
    "print(\"R2 Scored :\", r2)"
   ]
  },
  {
   "cell_type": "code",
   "execution_count": 271,
   "id": "e1b3df8e",
   "metadata": {},
   "outputs": [
    {
     "data": {
      "text/plain": [
       "engine-type_dohcv    -6004.355103\n",
       "bore                 -4197.134277\n",
       "make_subaru          -2842.436517\n",
       "make_mitsubishi      -2661.321138\n",
       "make_plymouth        -2289.347167\n",
       "                         ...     \n",
       "aspiration            3142.450446\n",
       "engine-type_rotor     3330.204138\n",
       "make_mercedes-benz    4130.231640\n",
       "engine-location       5637.771822\n",
       "make_bmw              6226.981653\n",
       "Length: 63, dtype: float64"
      ]
     },
     "execution_count": 271,
     "metadata": {},
     "output_type": "execute_result"
    }
   ],
   "source": [
    "s3 = pd.Series(ridge_reg_model.coef_, index=x.columns)\n",
    "s3.sort_values()"
   ]
  },
  {
   "cell_type": "markdown",
   "id": "3a6fa327",
   "metadata": {},
   "source": [
    "### 2. Lasso Regression"
   ]
  },
  {
   "cell_type": "code",
   "execution_count": 272,
   "id": "ebda209d",
   "metadata": {},
   "outputs": [
    {
     "data": {
      "text/plain": [
       "Lasso()"
      ]
     },
     "execution_count": 272,
     "metadata": {},
     "output_type": "execute_result"
    }
   ],
   "source": [
    "lasso_reg_model = Lasso()                # alpha= 1.0 (bydefault)\n",
    "\n",
    "lasso_reg_model.fit(x_train, y_train)"
   ]
  },
  {
   "cell_type": "code",
   "execution_count": 273,
   "id": "127d9dce",
   "metadata": {},
   "outputs": [
    {
     "name": "stdout",
     "output_type": "stream",
     "text": [
      "MSE : 2404575.9929006225\n",
      "RMSE : 1550.6695305256444\n",
      "MAE : 1134.8654267419054\n",
      "R2 Scored : 0.9622305488787544\n"
     ]
    }
   ],
   "source": [
    "# Model Evaluation on Training Dataset\n",
    "\n",
    "y_pred_train = lasso_reg_model.predict(x_train)\n",
    "\n",
    "mse = mean_squared_error(y_train, y_pred_train)\n",
    "print(\"MSE :\",mse)\n",
    "\n",
    "rmse = np.sqrt(mse)\n",
    "print(\"RMSE :\",rmse)\n",
    "\n",
    "mae = mean_absolute_error(y_train, y_pred_train)\n",
    "print(\"MAE :\",mae)\n",
    "\n",
    "r2 = r2_score(y_train, y_pred_train)\n",
    "print(\"R2 Scored :\", r2)"
   ]
  },
  {
   "cell_type": "code",
   "execution_count": 274,
   "id": "084815f9",
   "metadata": {},
   "outputs": [
    {
     "name": "stdout",
     "output_type": "stream",
     "text": [
      "MSE : 6455877.75814986\n",
      "RMSE : 2540.841938836389\n",
      "MAE : 1550.8424925158415\n",
      "R2 Scored : 0.876554070747905\n"
     ]
    }
   ],
   "source": [
    "# Model Evaluation on Testing Dataset\n",
    "\n",
    "y_pred = lasso_reg_model.predict(x_test)\n",
    "\n",
    "mse = mean_squared_error(y_test, y_pred)\n",
    "print(\"MSE :\",mse)\n",
    "\n",
    "rmse = np.sqrt(mse)\n",
    "print(\"RMSE :\",rmse)\n",
    "\n",
    "mae = mean_absolute_error(y_test, y_pred)\n",
    "print(\"MAE :\",mae)\n",
    "\n",
    "r2 = r2_score(y_test, y_pred)\n",
    "print(\"R2 Scored :\", r2)"
   ]
  },
  {
   "cell_type": "code",
   "execution_count": 275,
   "id": "0390a562",
   "metadata": {},
   "outputs": [
    {
     "data": {
      "text/plain": [
       "engine-type_dohcv   -20959.411383\n",
       "make_peugot          -6490.384046\n",
       "bore                 -3728.854131\n",
       "make_mitsubishi      -3265.543817\n",
       "make_plymouth        -2947.792748\n",
       "                         ...     \n",
       "engine-location       7716.240019\n",
       "engine-type_rotor     7920.855914\n",
       "make_porsche          7934.902085\n",
       "make_bmw              8380.363052\n",
       "fuel-system_idi       9545.428879\n",
       "Length: 63, dtype: float64"
      ]
     },
     "execution_count": 275,
     "metadata": {},
     "output_type": "execute_result"
    }
   ],
   "source": [
    "s4 = pd.Series(lasso_reg_model.coef_, index=x.columns)\n",
    "s4.sort_values()"
   ]
  },
  {
   "cell_type": "markdown",
   "id": "671daa80",
   "metadata": {},
   "source": [
    "### 3. Hyperparameter Tuning"
   ]
  },
  {
   "cell_type": "markdown",
   "id": "c5e7118c",
   "metadata": {},
   "source": [
    "### A. Ridge Regression"
   ]
  },
  {
   "cell_type": "markdown",
   "id": "e278c82a",
   "metadata": {},
   "source": [
    "#### BY Using GridsearchCV"
   ]
  },
  {
   "cell_type": "code",
   "execution_count": 276,
   "id": "f511a122",
   "metadata": {},
   "outputs": [
    {
     "data": {
      "text/plain": [
       "Ridge(alpha=0.01)"
      ]
     },
     "execution_count": 276,
     "metadata": {},
     "output_type": "execute_result"
    }
   ],
   "source": [
    "# Model instance\n",
    "ridge_reg_model = Ridge() \n",
    "\n",
    "# Defined param_grid\n",
    "param_grid = {\"alpha\": np.arange(0.01,3,0.01)}\n",
    "\n",
    "gscv_ridge_model = GridSearchCV(ridge_reg_model, param_grid, n_jobs=-1)\n",
    "\n",
    "gscv_ridge_model.fit(x_train, y_train)\n",
    "\n",
    "gscv_ridge_model.best_estimator_"
   ]
  },
  {
   "cell_type": "code",
   "execution_count": 277,
   "id": "51169a02",
   "metadata": {},
   "outputs": [
    {
     "data": {
      "text/plain": [
       "Ridge(alpha=0.01)"
      ]
     },
     "execution_count": 277,
     "metadata": {},
     "output_type": "execute_result"
    }
   ],
   "source": [
    "# Rebuild the model by using new alpha value\n",
    "\n",
    "ridge_reg_model = Ridge(alpha = 0.01) \n",
    "\n",
    "ridge_reg_model.fit(x_train, y_train)"
   ]
  },
  {
   "cell_type": "code",
   "execution_count": 278,
   "id": "80e208a2",
   "metadata": {},
   "outputs": [
    {
     "name": "stdout",
     "output_type": "stream",
     "text": [
      "MSE : 2393827.1930172667\n",
      "RMSE : 1547.199790918182\n",
      "MAE : 1132.2192184501341\n",
      "R2 Scored : 0.962399383747357\n"
     ]
    }
   ],
   "source": [
    "# Evaluation Matrix on Training Dataset\n",
    "\n",
    "y_pred_train = ridge_reg_model.predict(x_train)\n",
    "\n",
    "mse = mean_squared_error(y_train, y_pred_train)\n",
    "print(\"MSE :\",mse)\n",
    "\n",
    "rmse = np.sqrt(mse)\n",
    "print(\"RMSE :\",rmse)\n",
    "\n",
    "mae = mean_absolute_error(y_train, y_pred_train)\n",
    "print(\"MAE :\",mae)\n",
    "\n",
    "r2 = r2_score(y_train, y_pred_train)\n",
    "print(\"R2 Scored :\", r2)"
   ]
  },
  {
   "cell_type": "code",
   "execution_count": 279,
   "id": "5b303c91",
   "metadata": {},
   "outputs": [
    {
     "name": "stdout",
     "output_type": "stream",
     "text": [
      "MSE : 6677560.767209952\n",
      "RMSE : 2584.097669827894\n",
      "MAE : 1581.9639298494208\n",
      "R2 Scored : 0.8723151638048054\n"
     ]
    }
   ],
   "source": [
    "# Evaluation Matrix on Testing Dataset\n",
    "\n",
    "y_pred = ridge_reg_model.predict(x_test)\n",
    "\n",
    "mse = mean_squared_error(y_test, y_pred)\n",
    "print(\"MSE :\",mse)\n",
    "\n",
    "rmse = np.sqrt(mse)\n",
    "print(\"RMSE :\",rmse)\n",
    "\n",
    "mae = mean_absolute_error(y_test, y_pred)\n",
    "print(\"MAE :\",mae)\n",
    "\n",
    "r2 = r2_score(y_test, y_pred)\n",
    "print(\"R2 Scored :\", r2)"
   ]
  },
  {
   "cell_type": "markdown",
   "id": "314b2ed1",
   "metadata": {},
   "source": [
    "#### By using Randomized Search CV"
   ]
  },
  {
   "cell_type": "code",
   "execution_count": 280,
   "id": "dfd11422",
   "metadata": {},
   "outputs": [
    {
     "data": {
      "text/plain": [
       "Ridge(alpha=0.09999999999999999)"
      ]
     },
     "execution_count": 280,
     "metadata": {},
     "output_type": "execute_result"
    }
   ],
   "source": [
    "# Model instance\n",
    "ridge_reg_model = Ridge() \n",
    "\n",
    "# Defined param_grid\n",
    "param_grid = {\"alpha\": np.arange(0.01,3,0.01)}\n",
    "\n",
    "rscv_ridge_model = RandomizedSearchCV(ridge_reg_model, param_grid, n_jobs=-1)\n",
    "\n",
    "rscv_ridge_model.fit(x_train, y_train)\n",
    "\n",
    "rscv_ridge_model.best_estimator_"
   ]
  },
  {
   "cell_type": "code",
   "execution_count": 281,
   "id": "2510c11e",
   "metadata": {},
   "outputs": [
    {
     "data": {
      "text/plain": [
       "Ridge(alpha=0.09999999999999999)"
      ]
     },
     "execution_count": 281,
     "metadata": {},
     "output_type": "execute_result"
    }
   ],
   "source": [
    "# Rebuild the model by using new alpha value\n",
    "\n",
    "ridge_reg_model = Ridge(alpha = 0.09999999999999999)\n",
    "\n",
    "ridge_reg_model.fit(x_train, y_train)"
   ]
  },
  {
   "cell_type": "code",
   "execution_count": 282,
   "id": "25702cac",
   "metadata": {},
   "outputs": [
    {
     "name": "stdout",
     "output_type": "stream",
     "text": [
      "MSE : 2488819.012457033\n",
      "RMSE : 1577.5991292014055\n",
      "MAE : 1151.6574760664\n",
      "R2 Scored : 0.960907316583815\n"
     ]
    }
   ],
   "source": [
    "# Model Evaluation on Training Dataset\n",
    "\n",
    "y_pred_train = ridge_reg_model.predict(x_train)\n",
    "\n",
    "mse = mean_squared_error(y_train, y_pred_train)\n",
    "print(\"MSE :\",mse)\n",
    "\n",
    "rmse = np.sqrt(mse)\n",
    "print(\"RMSE :\",rmse)\n",
    "\n",
    "mae = mean_absolute_error(y_train, y_pred_train)\n",
    "print(\"MAE :\",mae)\n",
    "\n",
    "r2 = r2_score(y_train, y_pred_train)\n",
    "print(\"R2 Scored :\", r2)"
   ]
  },
  {
   "cell_type": "code",
   "execution_count": 283,
   "id": "54bb063f",
   "metadata": {},
   "outputs": [
    {
     "name": "stdout",
     "output_type": "stream",
     "text": [
      "MSE : 6262444.761345223\n",
      "RMSE : 2502.4877145243336\n",
      "MAE : 1579.765486212505\n",
      "R2 Scored : 0.880252795682469\n"
     ]
    }
   ],
   "source": [
    "# Model Evaluation on Testing Dataset\n",
    "\n",
    "y_pred = ridge_reg_model.predict(x_test)\n",
    "\n",
    "mse = mean_squared_error(y_test, y_pred)\n",
    "print(\"MSE :\",mse)\n",
    "\n",
    "rmse = np.sqrt(mse)\n",
    "print(\"RMSE :\",rmse)\n",
    "\n",
    "mae = mean_absolute_error(y_test, y_pred)\n",
    "print(\"MAE :\",mae)\n",
    "\n",
    "r2 = r2_score(y_test, y_pred)\n",
    "print(\"R2 Scored :\", r2)"
   ]
  },
  {
   "cell_type": "markdown",
   "id": "f351bdfb",
   "metadata": {},
   "source": [
    "### B. Lasso Regression"
   ]
  },
  {
   "cell_type": "markdown",
   "id": "913ae2e1",
   "metadata": {},
   "source": [
    "#### By using GridSearchCV"
   ]
  },
  {
   "cell_type": "code",
   "execution_count": 285,
   "id": "a2fa91c5",
   "metadata": {},
   "outputs": [
    {
     "data": {
      "text/plain": [
       "Lasso(alpha=0.13)"
      ]
     },
     "execution_count": 285,
     "metadata": {},
     "output_type": "execute_result"
    }
   ],
   "source": [
    "# Model instance\n",
    "lasso_reg_model = Lasso() \n",
    "\n",
    "# Defined param_grid\n",
    "param_grid = {\"alpha\": np.arange(0.01,3,0.01)}\n",
    "\n",
    "\n",
    "gscv_lasso_model = GridSearchCV(lasso_reg_model, param_grid, n_jobs=-1, cv= 5)\n",
    "\n",
    "gscv_lasso_model.fit(x_train, y_train)\n",
    "gscv_lasso_model.best_estimator_"
   ]
  },
  {
   "cell_type": "code",
   "execution_count": 286,
   "id": "130c2e7e",
   "metadata": {},
   "outputs": [
    {
     "data": {
      "text/plain": [
       "Lasso(alpha=0.13)"
      ]
     },
     "execution_count": 286,
     "metadata": {},
     "output_type": "execute_result"
    }
   ],
   "source": [
    "# Rebuild model by using new value of alpha\n",
    "\n",
    "lasso_reg_model = Lasso(alpha = 0.13)\n",
    "lasso_reg_model.fit(x_train, y_train)"
   ]
  },
  {
   "cell_type": "code",
   "execution_count": 287,
   "id": "6f691367",
   "metadata": {},
   "outputs": [
    {
     "name": "stdout",
     "output_type": "stream",
     "text": [
      "MSE : 2391726.5346919987\n",
      "RMSE : 1546.5207837892121\n",
      "MAE : 1129.8624048067356\n",
      "R2 Scored : 0.962432379465593\n"
     ]
    }
   ],
   "source": [
    "# Model Evaluation on Training Dataset\n",
    "\n",
    "y_pred_train = lasso_reg_model.predict(x_train)\n",
    "\n",
    "mse = mean_squared_error(y_train, y_pred_train)\n",
    "print(\"MSE :\",mse)\n",
    "\n",
    "rmse = np.sqrt(mse)\n",
    "print(\"RMSE :\",rmse)\n",
    "\n",
    "mae = mean_absolute_error(y_train, y_pred_train)\n",
    "print(\"MAE :\",mae)\n",
    "\n",
    "r2 = r2_score(y_train, y_pred_train)\n",
    "print(\"R2 Scored :\", r2)"
   ]
  },
  {
   "cell_type": "code",
   "execution_count": 288,
   "id": "e178fab2",
   "metadata": {},
   "outputs": [
    {
     "name": "stdout",
     "output_type": "stream",
     "text": [
      "MSE : 6733725.918703463\n",
      "RMSE : 2594.942372906085\n",
      "MAE : 1585.3126714642851\n",
      "R2 Scored : 0.8712412030550145\n"
     ]
    }
   ],
   "source": [
    "# Model Evaluation on Testing Dataset\n",
    "\n",
    "y_pred = lasso_reg_model.predict(x_test)\n",
    "\n",
    "mse = mean_squared_error(y_test, y_pred)\n",
    "print(\"MSE :\",mse)\n",
    "\n",
    "rmse = np.sqrt(mse)\n",
    "print(\"RMSE :\",rmse)\n",
    "\n",
    "mae = mean_absolute_error(y_test, y_pred)\n",
    "print(\"MAE :\",mae)\n",
    "\n",
    "r2 = r2_score(y_test, y_pred)\n",
    "print(\"R2 Scored :\", r2)"
   ]
  },
  {
   "cell_type": "markdown",
   "id": "1bb2f4f3",
   "metadata": {},
   "source": [
    "#### By using RandomizesSearchCV"
   ]
  },
  {
   "cell_type": "code",
   "execution_count": 289,
   "id": "f1e478bb",
   "metadata": {},
   "outputs": [
    {
     "data": {
      "text/plain": [
       "Lasso(alpha=1.47)"
      ]
     },
     "execution_count": 289,
     "metadata": {},
     "output_type": "execute_result"
    }
   ],
   "source": [
    "# Model instance\n",
    "lasso_model = Lasso()\n",
    "\n",
    "# Defined param_grid\n",
    "param_grid = {\"alpha\": np.arange(0.01,3,0.01)}\n",
    "\n",
    "\n",
    "rscv_lasso_model = RandomizedSearchCV(lasso_model, param_grid, n_jobs=-1)\n",
    "\n",
    "rscv_lasso_model.fit(x_train, y_train)\n",
    "\n",
    "rscv_lasso_model.best_estimator_"
   ]
  },
  {
   "cell_type": "code",
   "execution_count": 290,
   "id": "6aac59cf",
   "metadata": {},
   "outputs": [
    {
     "data": {
      "text/plain": [
       "Lasso(alpha=1.47)"
      ]
     },
     "execution_count": 290,
     "metadata": {},
     "output_type": "execute_result"
    }
   ],
   "source": [
    "# Rebuild the model by using new value of alpha\n",
    "\n",
    "lasso_reg_model = Lasso(alpha=1.47)  \n",
    "lasso_reg_model.fit(x_train, y_train)"
   ]
  },
  {
   "cell_type": "code",
   "execution_count": 291,
   "id": "31ef1d43",
   "metadata": {},
   "outputs": [
    {
     "name": "stdout",
     "output_type": "stream",
     "text": [
      "MSE : 2418392.208075672\n",
      "RMSE : 1555.118068853832\n",
      "MAE : 1138.2441936562661\n",
      "R2 Scored : 0.962013533128254\n"
     ]
    }
   ],
   "source": [
    "# Model Evaluation on Training Dataset\n",
    "\n",
    "y_pred_train = lasso_reg_model.predict(x_train)\n",
    "\n",
    "mse = mean_squared_error(y_train, y_pred_train)\n",
    "print(\"MSE :\",mse)\n",
    "\n",
    "rmse = np.sqrt(mse)\n",
    "print(\"RMSE :\",rmse)\n",
    "\n",
    "mae = mean_absolute_error(y_train, y_pred_train)\n",
    "print(\"MAE :\",mae)\n",
    "\n",
    "r2 = r2_score(y_train, y_pred_train)\n",
    "print(\"R2 Scored :\", r2)"
   ]
  },
  {
   "cell_type": "code",
   "execution_count": 292,
   "id": "e0f3574c",
   "metadata": {},
   "outputs": [
    {
     "name": "stdout",
     "output_type": "stream",
     "text": [
      "MSE : 6329397.040614621\n",
      "RMSE : 2515.8292948081\n",
      "MAE : 1534.5770906645973\n",
      "R2 Scored : 0.8789725690983267\n"
     ]
    }
   ],
   "source": [
    "# Model Evalution on Testing Dataset\n",
    "\n",
    "y_pred = lasso_reg_model.predict(x_test)\n",
    "\n",
    "mse = mean_squared_error(y_test, y_pred)\n",
    "print(\"MSE :\",mse)\n",
    "\n",
    "rmse = np.sqrt(mse)\n",
    "print(\"RMSE :\",rmse)\n",
    "\n",
    "mae = mean_absolute_error(y_test, y_pred)\n",
    "print(\"MAE :\",mae)\n",
    "\n",
    "r2 = r2_score(y_test, y_pred)\n",
    "print(\"R2 Scored :\", r2)"
   ]
  },
  {
   "cell_type": "raw",
   "id": "64901f4f",
   "metadata": {},
   "source": [
    "By comparing all model accuracy it is observed that we get good accuracy on ridge regression model. Therefore we are creating pickel file of ridge regression model."
   ]
  },
  {
   "cell_type": "markdown",
   "id": "88338c9c",
   "metadata": {},
   "source": [
    "### Creating Pickle File"
   ]
  },
  {
   "cell_type": "code",
   "execution_count": 293,
   "id": "32d6c462",
   "metadata": {},
   "outputs": [],
   "source": [
    "with open(\"Ridge Model.pkl\", \"wb\") as f:\n",
    "    pickle.dump(ridge_reg_model, f)"
   ]
  },
  {
   "cell_type": "markdown",
   "id": "6ee8417e",
   "metadata": {},
   "source": [
    "### Creating JSON File"
   ]
  },
  {
   "cell_type": "code",
   "execution_count": 295,
   "id": "1c01cd9a",
   "metadata": {},
   "outputs": [],
   "source": [
    "column_names = x.columns"
   ]
  },
  {
   "cell_type": "code",
   "execution_count": 303,
   "id": "ef14c1c4",
   "metadata": {},
   "outputs": [
    {
     "data": {
      "text/plain": [
       "{'fuel_type': {'gas': 1, 'diesel': 0},\n",
       " 'aspiration': {'std': 0, 'turbo': 1},\n",
       " 'num_of_doors': {'four': 4, 'two': 2},\n",
       " 'drive_wheels': {'fwd': 0, 'rwd': 1, '4wd': 2},\n",
       " 'engine_location': {'front': 0, 'rear': 1},\n",
       " 'num_of_cylinders': {'four': 4,\n",
       "  'six': 6,\n",
       "  'five': 5,\n",
       "  'eight': 8,\n",
       "  'two': 2,\n",
       "  'three': 3,\n",
       "  'twelve': 12},\n",
       " 'columns': ['symboling',\n",
       "  'normalized-losses',\n",
       "  'fuel-type',\n",
       "  'aspiration',\n",
       "  'num-of-doors',\n",
       "  'drive-wheels',\n",
       "  'engine-location',\n",
       "  'wheel-base',\n",
       "  'length',\n",
       "  'width',\n",
       "  'height',\n",
       "  'curb-weight',\n",
       "  'num-of-cylinders',\n",
       "  'engine-size',\n",
       "  'bore',\n",
       "  'stroke',\n",
       "  'compression-ratio',\n",
       "  'horsepower',\n",
       "  'peak-rpm',\n",
       "  'city-mpg',\n",
       "  'highway-mpg',\n",
       "  'make_alfa-romero',\n",
       "  'make_audi',\n",
       "  'make_bmw',\n",
       "  'make_chevrolet',\n",
       "  'make_dodge',\n",
       "  'make_honda',\n",
       "  'make_isuzu',\n",
       "  'make_jaguar',\n",
       "  'make_mazda',\n",
       "  'make_mercedes-benz',\n",
       "  'make_mercury',\n",
       "  'make_mitsubishi',\n",
       "  'make_nissan',\n",
       "  'make_peugot',\n",
       "  'make_plymouth',\n",
       "  'make_porsche',\n",
       "  'make_renault',\n",
       "  'make_saab',\n",
       "  'make_subaru',\n",
       "  'make_toyota',\n",
       "  'make_volkswagen',\n",
       "  'make_volvo',\n",
       "  'body-style_convertible',\n",
       "  'body-style_hardtop',\n",
       "  'body-style_hatchback',\n",
       "  'body-style_sedan',\n",
       "  'body-style_wagon',\n",
       "  'fuel-system_1bbl',\n",
       "  'fuel-system_2bbl',\n",
       "  'fuel-system_4bbl',\n",
       "  'fuel-system_idi',\n",
       "  'fuel-system_mfi',\n",
       "  'fuel-system_mpfi',\n",
       "  'fuel-system_spdi',\n",
       "  'fuel-system_spfi',\n",
       "  'engine-type_dohc',\n",
       "  'engine-type_dohcv',\n",
       "  'engine-type_l',\n",
       "  'engine-type_ohc',\n",
       "  'engine-type_ohcf',\n",
       "  'engine-type_ohcv',\n",
       "  'engine-type_rotor']}"
      ]
     },
     "execution_count": 303,
     "metadata": {},
     "output_type": "execute_result"
    }
   ],
   "source": [
    "json_data = {\"fuel_type\":fuel_type_dict, \"aspiration\": aspiration_dict, \"num_of_doors\":num_of_doors_dict,\n",
    "            \"drive_wheels\": drive_wheels_dict, \"engine_location\" : engine_location_dict,\n",
    "             \"num_of_cylinders\":num_of_cylinders_dict, \"columns\": list(column_names)}\n",
    "json_data"
   ]
  },
  {
   "cell_type": "code",
   "execution_count": 305,
   "id": "d0f130f3",
   "metadata": {},
   "outputs": [],
   "source": [
    "import json\n",
    "\n",
    "with open (\"project_data.json\", 'w') as f:\n",
    "    json.dump(json_data,f)"
   ]
  },
  {
   "cell_type": "markdown",
   "id": "b5a7673a",
   "metadata": {},
   "source": [
    "### Testing for user input value"
   ]
  },
  {
   "cell_type": "code",
   "execution_count": 306,
   "id": "99ba3277",
   "metadata": {},
   "outputs": [],
   "source": [
    "symboling = 3.00\n",
    "normalized_losses = 118.00\n",
    "fuel_type = \"gas\"\n",
    "aspiration = \"turbo\"\n",
    "num_of_doors = \"four\"\n",
    "drive_wheels = \"4wd\"\n",
    "engine_location = \"rear\"\n",
    "wheel_base = 88.60\n",
    "length = 170.80\n",
    "width = 64.10\n",
    "height = 50.80\n",
    "curb_weight = 2600.00\n",
    "num_of_cylinders = \"five\"\n",
    "engine_size = 130.00\n",
    "bore = 3.47\n",
    "stroke = 2.68\n",
    "compression_ratio = 9.00\n",
    "horsepower = 111.00\n",
    "peak_rpm = 6000.00\n",
    "city_mpg = 21.00\n",
    "highway_mpg = 27.00\n",
    "\n",
    "\n",
    "# onehot encoded columns\n",
    "engine_type = \"ohc\"\n",
    "body_style = \"sedan\"\n",
    "fuel_system = \"mpfi\"\n",
    "make = \"audi\" "
   ]
  },
  {
   "cell_type": "code",
   "execution_count": 307,
   "id": "5e4b780a",
   "metadata": {},
   "outputs": [
    {
     "data": {
      "text/plain": [
       "array([0, 0, 0, 0, 0, 0, 0, 0, 0, 0, 0, 0, 0, 0, 0, 0, 0, 0, 0, 0, 0, 0,\n",
       "       0, 0, 0, 0, 0, 0, 0, 0, 0, 0, 0, 0, 0, 0, 0, 0, 0, 0, 0, 0, 0, 0,\n",
       "       0, 0, 0, 0, 0, 0, 0, 0, 0, 0, 0, 0, 0, 0, 0, 0, 0, 0, 0])"
      ]
     },
     "execution_count": 307,
     "metadata": {},
     "output_type": "execute_result"
    }
   ],
   "source": [
    "array = np.zeros(len(x.columns), dtype = int)\n",
    "array"
   ]
  },
  {
   "cell_type": "code",
   "execution_count": 309,
   "id": "9dd00c17",
   "metadata": {},
   "outputs": [],
   "source": [
    "body_style_col = \"body-style_\" + body_style\n",
    "engine_type_col = \"engine-type_\" + engine_type\n",
    "fuel_system_col = \"fuel-system_\" + fuel_system\n",
    "make_col = \"make_\" + make"
   ]
  },
  {
   "cell_type": "code",
   "execution_count": 313,
   "id": "9996a0c4",
   "metadata": {},
   "outputs": [],
   "source": [
    "# Find the index of this column -->\n",
    "\n",
    "body_style_index = json_data['columns'].index(body_style_col)\n",
    "engine_type_index = json_data['columns'].index(engine_type_col)\n",
    "fuel_system_index = json_data['columns'].index(fuel_system_col)\n",
    "make_index        = json_data['columns'].index(make_col)"
   ]
  },
  {
   "cell_type": "code",
   "execution_count": 316,
   "id": "e6a91e05",
   "metadata": {},
   "outputs": [
    {
     "data": {
      "text/plain": [
       "array([   3,  118,    1,    1,    4,    2,    1,   88,  170,   64,   50,\n",
       "       2600,    5,  130,    3,    2,    9,  111, 6000,   21,   27,    0,\n",
       "          1,    0,    0,    0,    0,    0,    0,    0,    0,    0,    0,\n",
       "          0,    0,    0,    0,    0,    0,    0,    0,    0,    0,    0,\n",
       "          0,    0,    1,    0,    0,    0,    0,    0,    0,    1,    0,\n",
       "          0,    0,    0,    0,    1,    0,    0,    0])"
      ]
     },
     "execution_count": 316,
     "metadata": {},
     "output_type": "execute_result"
    }
   ],
   "source": [
    "array[0] = symboling\n",
    "array[1] = normalized_losses\n",
    "array[2] = fuel_type_dict[fuel_type]\n",
    "array[3] = aspiration_dict[aspiration]\n",
    "array[4] = num_of_doors_dict[num_of_doors]\n",
    "array[5] = drive_wheels_dict[drive_wheels]\n",
    "array[6] = engine_location_dict[engine_location]\n",
    "array[7] = wheel_base\n",
    "array[8] = length\n",
    "array[9] = width\n",
    "array[10] = height\n",
    "array[11] = curb_weight\n",
    "array[12] = num_of_cylinders_dict[num_of_cylinders]\n",
    "array[13] = engine_size\n",
    "array[14] = bore\n",
    "array[15] = stroke\n",
    "array[16] = compression_ratio\n",
    "array[17] = horsepower\n",
    "array[18] = peak_rpm\n",
    "array[19] = city_mpg\n",
    "array[20] = highway_mpg\n",
    "\n",
    "array[body_style_index] = 1\n",
    "array[engine_type_index] = 1\n",
    "array[fuel_system_index] = 1\n",
    "array[make_index]   = 1\n",
    "array"
   ]
  },
  {
   "cell_type": "code",
   "execution_count": 317,
   "id": "ec6c7750",
   "metadata": {},
   "outputs": [
    {
     "name": "stdout",
     "output_type": "stream",
     "text": [
      "Prediction of your car Price is : $ 28388.7\n"
     ]
    }
   ],
   "source": [
    "prediction = ridge_reg_model.predict([array])[0]  # 2D array\n",
    "print(\"Prediction of your car Price is : $\", round(prediction, 2))"
   ]
  }
 ],
 "metadata": {
  "kernelspec": {
   "display_name": "Python 3 (ipykernel)",
   "language": "python",
   "name": "python3"
  },
  "language_info": {
   "codemirror_mode": {
    "name": "ipython",
    "version": 3
   },
   "file_extension": ".py",
   "mimetype": "text/x-python",
   "name": "python",
   "nbconvert_exporter": "python",
   "pygments_lexer": "ipython3",
   "version": "3.9.13"
  }
 },
 "nbformat": 4,
 "nbformat_minor": 5
}
